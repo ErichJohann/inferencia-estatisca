{
  "nbformat": 4,
  "nbformat_minor": 0,
  "metadata": {
    "colab": {
      "provenance": [],
      "collapsed_sections": [
        "ldv1vZFp1OFS",
        "Bm9dCuGwhO7B",
        "HPPkYeUJOygP"
      ],
      "authorship_tag": "ABX9TyP+CwgzpRuBOOjD2SSSU5yv",
      "include_colab_link": true
    },
    "kernelspec": {
      "name": "python3",
      "display_name": "Python 3"
    },
    "language_info": {
      "name": "python"
    }
  },
  "cells": [
    {
      "cell_type": "markdown",
      "metadata": {
        "id": "view-in-github",
        "colab_type": "text"
      },
      "source": [
        "<a href=\"https://colab.research.google.com/github/ErichJohann/inferencia-estatisca/blob/main/T1/T1.ipynb\" target=\"_parent\"><img src=\"https://colab.research.google.com/assets/colab-badge.svg\" alt=\"Open In Colab\"/></a>"
      ]
    },
    {
      "cell_type": "markdown",
      "source": [
        "<a id=\"top\"></a>\n",
        "<div class=\"list-group\" id=\"list-tab\" role=\"tablist\">\n",
        "<h1 class=\"list-group-item list-group-item-action active\" data-toggle=\"list\" style='background:#005097; border:0' role=\"tab\" aria-controls=\"home\"><center>Inferência Estatística (GCC1625) - Trabalho 1</center></h1>\n",
        "\n",
        "- Nome completo: Erich Johann Costa de Carvalho\n",
        "- [Link para vídeo](<LINK_VIDEO>)\n"
      ],
      "metadata": {
        "id": "ArwyjcxuE10w"
      }
    },
    {
      "cell_type": "code",
      "source": [
        "#import bibliotecas\n",
        "import numpy as np\n",
        "import matplotlib.pyplot as plt\n",
        "import itertools as it\n",
        "from scipy.stats import norm\n",
        "import scipy.stats as stats\n",
        "import pandas as pd\n",
        "import seaborn as sns"
      ],
      "metadata": {
        "id": "ybAgdVnrATXo"
      },
      "execution_count": null,
      "outputs": []
    },
    {
      "cell_type": "markdown",
      "source": [
        "# **1 Página de Livros didáticos**\n",
        " Considere uma população de livros didáticos com aproximadamente o\n",
        " mesmo tamanho físico. Nessa população, considere que a característica (isto\n",
        " é, a variável) de interesse é a quantidade de páginas contida em cada livro.\n",
        " Sendo assim, a população subjacente corresponde a um conjunto de valores\n",
        " numéricos inteiros positivos (correspondentes à quantidade de páginas de\n",
        " cada livro).\n",
        " Nesta parte do trabalho, você irá abordar a situação descrita acima como\n",
        " um problema de Probabilidade, e não como um problema de Estatística.\n",
        " Em um problema de Probabilidade, normalmente supõe-se que é conhecida\n",
        " a distribuição da população (o que não acontece em um problema de Esta\n",
        "tística). Assim, considere que a variável aleatória correspondente é a quan\n",
        "tidade de páginas em um livro da população, e que essa variável segue uma\n",
        " distribuição uniforme discreta nos inteiros de 150 até 300. Isso significa\n",
        " que um livro pode ter no mínimo 150 e no máximo 300 páginas, com igual\n",
        " probabilidade para qualquer quantidade de páginas nesse intervalo.\n"
      ],
      "metadata": {
        "id": "ldv1vZFp1OFS"
      }
    },
    {
      "cell_type": "markdown",
      "source": [
        "### **(i)** Esboce um gráfico (histograma) da distribuição da população com relação à característica quantidade de páginas. Dica: observe que esta população é modelada por uma distribuição discreta uniforme. Veja detalhes nesta entrada da Wikipédia"
      ],
      "metadata": {
        "id": "VV5C6nwKj4RY"
      }
    },
    {
      "cell_type": "code",
      "execution_count": null,
      "metadata": {
        "colab": {
          "base_uri": "https://localhost:8080/",
          "height": 488
        },
        "id": "HgmMJnKyzOFm",
        "outputId": "8bea722c-391b-4020-c55f-faf2aef01fdb"
      },
      "outputs": [
        {
          "output_type": "display_data",
          "data": {
            "text/plain": [
              "<Figure size 1200x500 with 1 Axes>"
            ],
            "image/png": "[encoded data removed]"
          },
          "metadata": {}
        }
      ],
      "source": [
        "# Definindo o intervalo da população\n",
        "val = np.arange(150, 301)\n",
        "n = len(val)\n",
        "\n",
        "# vetor com porbabilidade de cada valor\n",
        "prob = np.repeat(1/n, n)\n",
        "\n",
        "# Plot distribuição\n",
        "plt.figure(figsize=(12, 5))\n",
        "plt.bar(val, prob, width=1.0, edgecolor='black')\n",
        "plt.title(\"Histograma - Quantidade de páginas\")\n",
        "plt.xlabel(\"Número de páginas\")\n",
        "plt.ylabel(\"Probabilidade\")\n",
        "plt.show()"
      ]
    },
    {
      "cell_type": "markdown",
      "source": [
        "É gerado um vetor com numpy com uma entrada de 150 a 300, então cada número tem chance de 1 dividido pelo tamanho do vetor. Assim essa chance característica uniforme é plotada."
      ],
      "metadata": {
        "id": "Xoy3lByY8goQ"
      }
    },
    {
      "cell_type": "markdown",
      "source": [
        "###**(ii)** Encontre a média (µ), a variância (σ2) e o desvio padrão (σ) da distribuição da população. Dica: use as fórmulas da distribuição uniforme discreta disponíveis no link acima."
      ],
      "metadata": {
        "id": "oqwrykf6lfPw"
      }
    },
    {
      "cell_type": "code",
      "source": [
        "#limites inf sup\n",
        "a = 150\n",
        "b = 300\n",
        "\n",
        "# media\n",
        "mean = (a+b)/2\n",
        "print(f\"Média: {mean}\")\n",
        "\n",
        "# variancia\n",
        "variance = (((b-a+1)**2)-1)/12\n",
        "print(f\"Variância: {variance}\")\n",
        "\n",
        "#desvio padrão\n",
        "detour = np.sqrt(variance)\n",
        "print(f\"Desvio padrão: {detour}\")"
      ],
      "metadata": {
        "id": "HpOxu1nOlkoz",
        "colab": {
          "base_uri": "https://localhost:8080/"
        },
        "outputId": "ab774927-9f07-4d49-ef6e-bd7c0a2364b6"
      },
      "execution_count": null,
      "outputs": [
        {
          "output_type": "stream",
          "name": "stdout",
          "text": [
            "Média: 225.0\n",
            "Variância: 1900.0\n",
            "Desvio padrão: 43.58898943540674\n"
          ]
        }
      ]
    },
    {
      "cell_type": "markdown",
      "source": [
        "Usando as fórmulas da distribuição uniforme sabendo do valor máximo e mínimo, a média, variância e desvio padrão são calculados."
      ],
      "metadata": {
        "id": "kI1s5cSN9Kd3"
      }
    },
    {
      "cell_type": "markdown",
      "source": [
        "![image.png](data:image/png;base64,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)\n",
        "\n",
        "![image.png](data:image/png;base64,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)"
      ],
      "metadata": {
        "id": "YnG23lxV9scc"
      }
    },
    {
      "cell_type": "markdown",
      "source": [
        "###  **(iii)** Considere que o plano amostral utilizado é uma amostragem aleatória simples com reposição (simple random sample with replacement). Considere tomar amostras de tamanho 2 dessa população e calcular a média de cada amostra. Para cada amostra, você terá uma estatística pontual (a média amostral x). Ao gerar todas as possíveis amostras aleatórias de tamanho 2, a distribuição de todas essas médias constitui a distribuição amostral da média (sampling distribution of the sample mean) para n = 2"
      ],
      "metadata": {
        "id": "p0cPk7a-fZ3F"
      }
    },
    {
      "cell_type": "code",
      "source": [
        "# Geração de amostras\n",
        "samples = it.product(val, repeat=2)\n",
        "# Média amostral\n",
        "means = []\n",
        "for sample in samples:\n",
        "    means.append(np.mean(sample))\n",
        "\n",
        "#Distribuição amostral da média\n",
        "plt.figure(figsize=(12, 5))\n",
        "plt.hist(means, bins=100, edgecolor='black')\n",
        "plt.title(\"Distribuição Amostral da Média\")\n",
        "plt.xlabel(\"Média Amostral\")\n",
        "plt.ylabel(\"Frequência\")\n",
        "plt.show()"
      ],
      "metadata": {
        "colab": {
          "base_uri": "https://localhost:8080/",
          "height": 488
        },
        "id": "KOexKdp3ft1i",
        "outputId": "d0204be3-941f-4c4a-b10d-4a77c1beead2"
      },
      "execution_count": null,
      "outputs": [
        {
          "output_type": "display_data",
          "data": {
            "text/plain": [
              "<Figure size 1200x500 with 1 Axes>"
            ],
            "image/png": "[encoded data removed]"
          },
          "metadata": {}
        }
      ]
    },
    {
      "cell_type": "markdown",
      "source": [
        "A função it.product é usada para gerar todas as possíveis amostras de 2 números como um produto cartesiano, para que cada amostra tenha sua média computada e plotada. Os valores no meio(225), que é a média, possuem mais números que geram eles, por isso seu tamanho maior."
      ],
      "metadata": {
        "id": "mIrrwm7D-bUc"
      }
    },
    {
      "cell_type": "markdown",
      "source": [
        " ### **(iv)** Calcule a média (µx), a variância (σ2x) e o desvio padrão (σx) da distribuição amostral obtida no item anterior.  Dica: use as funções mean e var da sua linguagem de programação preferida (como Python ou R)."
      ],
      "metadata": {
        "id": "Axx_0xnS1fYH"
      }
    },
    {
      "cell_type": "code",
      "source": [
        "sampMean = np.mean(means)\n",
        "print(f\"Média: {sampMean}\")\n",
        "\n",
        "sampVariance = np.var(means)\n",
        "print(f\"Variância: {sampVariance}\")\n",
        "\n",
        "sampDetour = np.std(means)\n",
        "print(f\"Desvio padrão: {sampDetour}\")"
      ],
      "metadata": {
        "colab": {
          "base_uri": "https://localhost:8080/"
        },
        "id": "MO1pKSZU1m1M",
        "outputId": "cbff01d8-3d5a-4c59-b472-374ec0c20f11"
      },
      "execution_count": null,
      "outputs": [
        {
          "output_type": "stream",
          "name": "stdout",
          "text": [
            "Média: 225.0\n",
            "Variância: 950.0\n",
            "Desvio padrão: 30.822070014844883\n"
          ]
        }
      ]
    },
    {
      "cell_type": "markdown",
      "source": [
        "Usa-se as funções mean, var e std da bibilioteca numpy para calculo da média, variância e desvio padrão respectivamente."
      ],
      "metadata": {
        "id": "4zTS6aAY_3NZ"
      }
    },
    {
      "cell_type": "markdown",
      "source": [
        "###  **(v)** O Teorema Central do Limite fornece expressões teóricas para os valores esperados da média e do desvio padrão da distribuição amostral da média x. Use essa teoria e os valores do item (ii) para calcular esses parâmetros no caso de n = 2, e compare com os resultados obtidos no item (iv)"
      ],
      "metadata": {
        "id": "FgxA8A665pwi"
      }
    },
    {
      "cell_type": "code",
      "source": [
        "# valores esperados de acordo com TCL\n",
        "m = mean\n",
        "v = variance/2\n",
        "d = detour/np.sqrt(2)\n",
        "\n",
        "#Comparação parâmetros calculados x obtidos das amostras\n",
        "print(f\"Média calculada: {m}\")\n",
        "print(f\"Média amostras: {sampMean}\")\n",
        "print(f\"Variância calculada: {v}\")\n",
        "print(f\"Variância amostras: {sampVariance}\")\n",
        "print(f\"Desvio padrão calculado: {d}\")\n",
        "print(f\"Desvio padrão amostras: {sampDetour}\")"
      ],
      "metadata": {
        "colab": {
          "base_uri": "https://localhost:8080/"
        },
        "id": "DSulFUIz5vf9",
        "outputId": "39e29623-afc9-493b-fc0b-a706e9bfc550"
      },
      "execution_count": null,
      "outputs": [
        {
          "output_type": "stream",
          "name": "stdout",
          "text": [
            "Média calculada: 225.0\n",
            "Média amostras: 225.0\n",
            "Variância calculada: 950.0\n",
            "Variância amostras: 950.0\n",
            "Desvio padrão calculado: 30.822070014844883\n",
            "Desvio padrão amostras: 30.822070014844883\n"
          ]
        }
      ]
    },
    {
      "cell_type": "markdown",
      "source": [
        "O TLC declara que, conforme consideramos tamanhos de amostra cada vez maiores:\n",
        "* A distribuição amostral da média amostral (i.e., a distribuição das médias computadas para as amostras de um dado tamanho fixo ) aproxima-se cada vez mais de uma distribuição normal.\n",
        "* Essa distribuição amostral (aproximadamente normal) terá uma média próxima à media da população.\n",
        "* A variância da média amostral é próxima à variância da população dividida pelo tamanho das amostras.\n",
        "\n",
        "Como é observado acima, ao usar toda aquela quantidade de amostras o valor teórico foi igual ao obtido das amostras, já que é um conjunto bem grande, o que corrobora com TLC"
      ],
      "metadata": {
        "id": "HNShmt7yEl32"
      }
    },
    {
      "cell_type": "markdown",
      "source": [
        " ### **(vi)** Agora, suponha que desejamos estudar a distribuição amostral da média para amostras de tamanho n = 9"
      ],
      "metadata": {
        "id": "-Qd4M7ZoS8uV"
      }
    },
    {
      "cell_type": "markdown",
      "source": [
        "#### **(a)** Quantas amostras diferentes de tamanho 9 podem ser geradas apartir da população? Essa tarefa é viável de ser feita manualmente ou com auxílio computacional?"
      ],
      "metadata": {
        "id": "zIlSgBytTCmz"
      }
    },
    {
      "cell_type": "markdown",
      "source": [
        "A populção tem 151 valores de 150 a 300, assim com reposição são 151 valores 9 vezes. Portanto:\n",
        "151 * 151 * 151* 151 * 151 * 151 * 151 * 151 * 151 =  \n",
        "151^9  =  40.812.436.757.196.811.351\n",
        "\n",
        "Como é um valor bem grande não é viável enumerar as amostras manualmente, sendo necessário ajuda computacional."
      ],
      "metadata": {
        "id": "j7bNAnwEYMIl"
      }
    },
    {
      "cell_type": "markdown",
      "source": [
        " #### **(b)** Gere uma distribuição amostral empírica da média(uma a proximação da distribuição teórica) para n = 9"
      ],
      "metadata": {
        "id": "x_jraWzjZjNa"
      }
    },
    {
      "cell_type": "code",
      "source": [
        "#Gera 7k amostras de 9 números de 150 a 300 com reposição\n",
        "pop = np.arange(150,301)\n",
        "totalSamples = 7000\n",
        "n = 9\n",
        "samples = np.random.choice(pop, size=(totalSamples, n), replace=True)\n",
        "sampMean = np.mean(samples, axis=1)\n",
        "print(np.mean(sampMean))\n",
        "\n",
        "plt.figure(figsize=(12, 5))\n",
        "plt.hist(sampMean, bins=100, edgecolor='black')\n",
        "plt.title(\"Distribuição Amostral da Média\")\n",
        "plt.xlabel(\"Média Amostral\")\n",
        "plt.ylabel(\"Frequência\")\n",
        "plt.show()"
      ],
      "metadata": {
        "colab": {
          "base_uri": "https://localhost:8080/",
          "height": 505
        },
        "id": "gtAOYrVDTNOv",
        "outputId": "8b6d5c25-c292-4ace-b950-f337c486f2bb"
      },
      "execution_count": null,
      "outputs": [
        {
          "output_type": "stream",
          "name": "stdout",
          "text": [
            "225.2180476190476\n"
          ]
        },
        {
          "output_type": "display_data",
          "data": {
            "text/plain": [
              "<Figure size 1200x500 with 1 Axes>"
            ],
            "image/png": "[encoded data removed]"
          },
          "metadata": {}
        }
      ]
    },
    {
      "cell_type": "markdown",
      "source": [
        "São geradas de forma aleatória 7 mil amostras de 9 números da população e calculada a média amostral. Que ao ser plotada pode-se ver claramente a formação de uma distribuição normal que se aproxima bastante da média real."
      ],
      "metadata": {
        "id": "oyXcgQ6FB3lu"
      }
    },
    {
      "cell_type": "markdown",
      "source": [
        "# **2 Problema dos tanks alemães**"
      ],
      "metadata": {
        "id": "Bm9dCuGwhO7B"
      }
    },
    {
      "cell_type": "markdown",
      "source": [
        " Durante um conflito fictício, o serviço de inteligência de um país deseja es\n",
        "timar a quantidade total de veículos blindados produzidos por um país ad\n",
        "versário. Esses veículos são numerados sequencialmente a partir de 1 (por\n",
        " exemplo: 1, 2, 3, ..., N), e alguns deles foram capturados no campo de\n",
        " batalha Suponha que foram capturados aleatoriamente k = 5 tanques com os\n",
        " seguintes números de série:\n",
        "\n",
        " {17, 32, 45, 59, 88}\n",
        "\n",
        " Objetivo: estimar o número total N de tanques produzidos pelo inimigo,\n",
        " usando métodos estatísticos apropriados."
      ],
      "metadata": {
        "id": "KqxrcORYhaW9"
      }
    },
    {
      "cell_type": "markdown",
      "source": [
        "###  **(i)** Apresente uma estimativa pontual de N com base na amostra coletada, usando o seguinte estimador clássico:\n",
        "*N = M + M/k - 1*\n",
        "\n",
        "onde M é o maior número observado na amostra, e k é o tamanho da amostra."
      ],
      "metadata": {
        "id": "FZmUR4cEhmGQ"
      }
    },
    {
      "cell_type": "code",
      "source": [
        "sample = [17, 32, 45, 59, 88]\n",
        "m = max(sample)\n",
        "k = len(sample)\n",
        "nHat = m + (m/k)-1\n",
        "print(nHat)"
      ],
      "metadata": {
        "colab": {
          "base_uri": "https://localhost:8080/"
        },
        "id": "_eO3rb6ziBQh",
        "outputId": "0ad6a3e2-0de2-4032-bee3-54e95a703199"
      },
      "execution_count": null,
      "outputs": [
        {
          "output_type": "stream",
          "name": "stdout",
          "text": [
            "104.6\n"
          ]
        }
      ]
    },
    {
      "cell_type": "markdown",
      "source": [
        "Usando a fórmula de estimação fornecida para a amostra coletada o resultado foi bem próximo do real de 100 panzers"
      ],
      "metadata": {
        "id": "cfNft5LBGIY6"
      }
    },
    {
      "cell_type": "markdown",
      "source": [
        " ### **(ii)** Implemente (ou descreva) uma simulação computacional que reproduza o processo de amostragem aleatória de k = 5 tanques a partir de uma população com N = 100 tanques numerados sequencialmente. Repita esse processo muitas vezes (por exemplo, 10.000 vezes) e registre as estimativas N_hat em cada simulação."
      ],
      "metadata": {
        "id": "qRS2TQE_owg_"
      }
    },
    {
      "cell_type": "code",
      "source": [
        "#Função para realizar estimativa\n",
        "def evaluate(s):\n",
        "  m = max(s)\n",
        "  k = len(s)\n",
        "  nHat = m + (m/k)-1\n",
        "  return nHat\n",
        "\n",
        "#realização das simulações\n",
        "def getSimulations(n):\n",
        "  sims = []\n",
        "  panzers = np.arange(1, 101)\n",
        "  for _ in range(10000):\n",
        "    sample = np.random.choice(panzers, n, replace=False)\n",
        "    sims.append(evaluate(sample))\n",
        "  return sims\n",
        "\n",
        "n = 5\n",
        "simulations = getSimulations(n)"
      ],
      "metadata": {
        "id": "eN3IMGYRpkzs"
      },
      "execution_count": null,
      "outputs": []
    },
    {
      "cell_type": "markdown",
      "source": [
        "Foi criada uma função para a fórmula de estimação que é chamada pela função que gera as estimativas para cada uma das 10000 simulações, que escolhe as amostras de 1 a 100 sem reposição com a função np.random.choice para amostras de tamanho n=5"
      ],
      "metadata": {
        "id": "FZfYOTKYGhC4"
      }
    },
    {
      "cell_type": "markdown",
      "source": [
        "### **(iii)** Construa um histograma com as estimativas obtidas na simulação do item anterior e analise o comportamento do estimador N. Ele é viesado? Subestima ou superestima frequentemente o verdadeiro valor de N?"
      ],
      "metadata": {
        "id": "kKxFFglktSD_"
      }
    },
    {
      "cell_type": "code",
      "source": [
        "#Média das estimativas para ajudar na análise\n",
        "siMean = np.mean(simulations)\n",
        "siStd = np.std(simulations)\n",
        "\n",
        "plt.figure(figsize=(12, 5))\n",
        "plt.hist(simulations, bins=85, edgecolor='black')\n",
        "plt.axvline(x=siMean, color='red', linestyle='--', label='Média')\n",
        "plt.axvline(x=siMean+siStd, color='green', linestyle='--', label='Desvio padrão')\n",
        "plt.axvline(x=siMean-siStd, color='green', linestyle='--')\n",
        "plt.title(\"Distribuição das estimativas\")\n",
        "plt.xlabel(\"Estimativas\")\n",
        "plt.ylabel(\"Frequência\")\n",
        "plt.legend()\n",
        "plt.show()"
      ],
      "metadata": {
        "colab": {
          "base_uri": "https://localhost:8080/",
          "height": 487
        },
        "id": "ynfv2PUstj_D",
        "outputId": "235ff263-b6aa-452e-ce21-e5548f3b9e2c"
      },
      "execution_count": null,
      "outputs": [
        {
          "output_type": "display_data",
          "data": {
            "text/plain": [
              "<Figure size 1200x500 with 1 Axes>"
            ],
            "image/png": "[encoded data removed]"
          },
          "metadata": {}
        }
      ]
    },
    {
      "cell_type": "markdown",
      "source": [
        "Gerando o plot das médias das estimativas as conclusões foram as seguintes:\n",
        "\n",
        "O algoritmo no geral conseguiu ter uma excelente previsão para a quantidade de simulações, já que a média está bem próxima do número real, não sendo viesado. Mas vale ressaltar que os dados podem variar bastante dependendo das amostras coletadas gerando resultados bem errados"
      ],
      "metadata": {
        "id": "P3cLWGgswpbZ"
      }
    },
    {
      "cell_type": "markdown",
      "source": [
        " ### **(iv)** Calcule a média, a variância e o desvio padrão das estimativas geradas pela simulação. Compare com o valor real de N = 100 e discuta os resultados."
      ],
      "metadata": {
        "id": "j3KlsSAhyM2B"
      }
    },
    {
      "cell_type": "code",
      "source": [
        "siMean = np.mean(simulations)\n",
        "print(f\"Média das estimativas: {siMean}\")\n",
        "siVariance = np.var(simulations, ddof=1)\n",
        "print(f\"Variância das estimativas: {siVariance}\")\n",
        "siDetour = np.sqrt(siVariance)\n",
        "print(f\"Desvio padrão das estimativas: {siDetour}\")"
      ],
      "metadata": {
        "colab": {
          "base_uri": "https://localhost:8080/"
        },
        "id": "yaeVGQHAyRz5",
        "outputId": "7207608c-4acf-4972-9baf-e5c33f2c38dc"
      },
      "execution_count": null,
      "outputs": [
        {
          "output_type": "stream",
          "name": "stdout",
          "text": [
            "Média das estimativas: 99.9938\n",
            "Variância das estimativas: 270.6710606660666\n",
            "Desvio padrão das estimativas: 16.452083778842926\n"
          ]
        }
      ]
    },
    {
      "cell_type": "markdown",
      "source": [
        "Calculando os valores com as funções do numpy reforça que as estimas são boas, se aproximando bastante do valor real de 100, mas tem um desvio padrão que não pode ser menosprezado."
      ],
      "metadata": {
        "id": "rDO8maciAY7i"
      }
    },
    {
      "cell_type": "markdown",
      "source": [
        "### **(v)** Agora, repita a simulação para diferentes tamanhos de amostra (k = 2, 5, 10, 20). Como o tamanho da amostra influencia a qualidade da estimativa de N?"
      ],
      "metadata": {
        "id": "MsApPy65y390"
      }
    },
    {
      "cell_type": "code",
      "source": [
        "sampleSize = [2,5,10,20]\n",
        "for n in sampleSize:\n",
        "  simulations = getSimulations(n)\n",
        "  siMean = np.mean(simulations)\n",
        "  siVariance = np.var(simulations, ddof=1)\n",
        "  siDetour = np.sqrt(siVariance)\n",
        "  print(f\"Tamanho da amostra: {n}\")\n",
        "  print(f\"Média das estimativas: {siMean}\")\n",
        "  print(f\"Variância das estimativas: {siVariance}\")\n",
        "  print(f\"Desvio padrão das estimativas: {siDetour}\\n\")"
      ],
      "metadata": {
        "colab": {
          "base_uri": "https://localhost:8080/"
        },
        "id": "TNM4x4Tfy8MV",
        "outputId": "db8a44d9-fc4d-48b1-d19f-c57e6180d640"
      },
      "execution_count": null,
      "outputs": [
        {
          "output_type": "stream",
          "name": "stdout",
          "text": [
            "Tamanho da amostra: 2\n",
            "Média das estimativas: 99.7811\n",
            "Variância das estimativas: 1217.1221450045005\n",
            "Desvio padrão das estimativas: 34.887277695522485\n",
            "\n",
            "Tamanho da amostra: 5\n",
            "Média das estimativas: 99.73832\n",
            "Variância das estimativas: 286.27983156075607\n",
            "Desvio padrão das estimativas: 16.919805896072095\n",
            "\n",
            "Tamanho da amostra: 10\n",
            "Média das estimativas: 100.07779000000001\n",
            "Variância das estimativas: 72.82648236413641\n",
            "Desvio padrão das estimativas: 8.533843352448908\n",
            "\n",
            "Tamanho da amostra: 20\n",
            "Média das estimativas: 100.039295\n",
            "Variância das estimativas: 18.08827898087309\n",
            "Desvio padrão das estimativas: 4.253031739932479\n",
            "\n"
          ]
        }
      ]
    },
    {
      "cell_type": "markdown",
      "source": [
        "Usando a função anterior que realiza 10000 simulações alterando o tamanho da amostra nota-se claramente que quanto maior o tamanho da amostra menor o desvio padrão, tornando o resultado da estimativa mais confiável"
      ],
      "metadata": {
        "id": "LvMV28tj3s7m"
      }
    },
    {
      "cell_type": "markdown",
      "source": [
        "###  **(vi)** Proponha um intervalo de confiança para N com base nas simulações. Discuta se o verdadeiro valor (N = 100) costuma estar dentro do intervalo estimado."
      ],
      "metadata": {
        "id": "veUuFg-g4AqT"
      }
    },
    {
      "cell_type": "code",
      "source": [
        "sampleSize = [2,5,10,20]\n",
        "for n in sampleSize:\n",
        "  simulations = getSimulations(n)\n",
        "  low = np.percentile(simulations, 2.5)\n",
        "  high = np.percentile(simulations, 97.5)\n",
        "  print(f\"Tamanho da amostra: {n}\")\n",
        "  print(f\"Intervalo de confiança: [{low}, {high}]\")"
      ],
      "metadata": {
        "colab": {
          "base_uri": "https://localhost:8080/"
        },
        "id": "UJFhbiJZAXwf",
        "outputId": "96d839a3-ce8d-42f8-a1c8-1af4fb4b2011"
      },
      "execution_count": null,
      "outputs": [
        {
          "output_type": "stream",
          "name": "stdout",
          "text": [
            "Tamanho da amostra: 2\n",
            "Intervalo de confiança: [26.0, 147.5]\n",
            "Tamanho da amostra: 5\n",
            "Intervalo de confiança: [59.0, 119.0]\n",
            "Tamanho da amostra: 10\n",
            "Intervalo de confiança: [77.1, 109.0]\n",
            "Tamanho da amostra: 20\n",
            "Intervalo de confiança: [89.3, 104.0]\n"
          ]
        }
      ]
    },
    {
      "cell_type": "markdown",
      "source": [
        "Sim, o verdadeiro valor de N = 100 costuma estar dentro do intervalo, pelo próprio princípio ele deve estar por volta de 95% das vezes."
      ],
      "metadata": {
        "id": "lSSYpD14CB4z"
      }
    },
    {
      "cell_type": "markdown",
      "source": [
        "### **(vii)** Contextualização histórica: Pesquise brevemente como esse problema foi utilizado durante a Segunda Guerra Mundial. Comece sua pesquisa pela entrada correspondente na Wikipedia2. Quais foram as conclusões reais tiradas a partir dos números de série? Comente a importância histórica da inferência estatística nesse contexto."
      ],
      "metadata": {
        "id": "axGgaI0fIZEk"
      }
    },
    {
      "cell_type": "markdown",
      "source": [
        "Foi descoberto que os componentes dos tanques eram numerados sequencialmente, portanto poderiam estimar a produção do Panther por meio de uma análise estatística ao coletar o número de série presente na transmissão, motor, chassi etc... do blindado capturado ou destruído. Mais tarde no conflito com acesso aos documentos oficiais, mostrou-se que as estimativas estatísticas eram mais eficiêntes que as da inteligência. Isso mostra que a inferência estatística é tão importante que nesse caso ajudou até a ganhar uma guerra."
      ],
      "metadata": {
        "id": "dF5D0FnVIjfB"
      }
    },
    {
      "cell_type": "markdown",
      "source": [
        "#  **3 Diferença de médias**"
      ],
      "metadata": {
        "id": "HPPkYeUJOygP"
      }
    },
    {
      "cell_type": "markdown",
      "source": [
        " Considere que um pesquisador tenha desenvolvido um medicamento que su\n",
        "postamente melhora a memória. Considere duas populações hipotéticas: o\n",
        " desempenho das pessoas em um teste de memória se elas tiverem tomado o\n",
        " medicamento e o desempenho das pessoas se não tiverem. Suponha que a\n",
        " média (µ1) e a variância (σ2.1) da distribuição das pessoas que tomam o me\n",
        "dicamento sejam 50 e 25, respectivamente, e que a média (µ2) e a variância\n",
        " (σ2.2) da distribuição das pessoas que não tomam o medicamento sejam 40\n",
        " e 24, respectivamente. Segue-se que o medicamento, em média, melhora o\n",
        " desempenho no teste de memória em 10 pontos. Essa melhora de 10 pontos é\n",
        " para toda a população. Agora, considere a distribuição amostral da diferença\n",
        " entre as médias. Essa distribuição pode ser entendida pensando no seguinte\n",
        " plano amostral:\n",
        "\n",
        "  1. Produzir uma amostra de n1 escores da população de pessoas que to\n",
        "mam o medicamento e computar a média. Essa média será designada\n",
        " como M1.\n",
        " 2. Em seguida, produzir uma amostra de n2 escores da população de pes\n",
        "soas que não tomam o medicamento e computar a média. Essa média\n",
        " será designada como M2.\n",
        " 3. Calcular a diferença entre M1 e M2. Essa diferença será chamada de\n",
        " Md, onde o d significa “diferença”. Esta é o estatística cuja distribuição\n",
        " amostral é de interesse.\n",
        "\n"
      ],
      "metadata": {
        "id": "op9UJNkrDsps"
      }
    },
    {
      "cell_type": "markdown",
      "source": [
        " ### **(i)** Utilizando o plano amostral descrito acima, produza um histograma que aproxima a distribuição amostral de $M_d$. Dica: repita os passos do plano amostral descrito 10.000 vezes. Em seguida, crie o histograma solicitado com os 10.000 valores produzidos."
      ],
      "metadata": {
        "id": "LFPXiMi0dL0X"
      }
    },
    {
      "cell_type": "code",
      "source": [
        "totalSimulations = 10000\n",
        "n1 = 10\n",
        "n2 = 8\n",
        "diff = []\n",
        "\n",
        "for _ in range(totalSimulations):\n",
        "  sample1 = np.random.normal(50, np.sqrt(25), n1)\n",
        "  sample2 = np.random.normal(40, np.sqrt(24), n2)\n",
        "  diff.append(np.mean(sample1) - np.mean(sample2))\n",
        "\n",
        "\n",
        "plt.figure(figsize=(12, 5))\n",
        "plt.hist(diff, bins=75, edgecolor='black')\n",
        "plt.title(\"Distribuição Amostral da Média\")\n",
        "plt.xlabel(\"Média Amostral\")\n",
        "plt.ylabel(\"Frequência\")\n",
        "plt.show()"
      ],
      "metadata": {
        "colab": {
          "base_uri": "https://localhost:8080/",
          "height": 488
        },
        "id": "kU7XK-ZFdXE0",
        "outputId": "4fa6daea-fb35-4f86-8839-78f31c1bca32"
      },
      "execution_count": null,
      "outputs": [
        {
          "output_type": "display_data",
          "data": {
            "text/plain": [
              "<Figure size 1200x500 with 1 Axes>"
            ],
            "image/png": "[encoded data removed]"
          },
          "metadata": {}
        }
      ]
    },
    {
      "cell_type": "markdown",
      "source": [
        "usando os parâmetros de média e variância fornecidos com a função do numpy random.normal são colhidas amostras aleatórias para o calculo da diferença média entre o conjunto que tomou e não tomou o remédio."
      ],
      "metadata": {
        "id": "pD9NqtDnDc_q"
      }
    },
    {
      "cell_type": "markdown",
      "source": [
        " ### **(ii)** Usando a aproximação da distribuição amostral de Md obtida no item anterior, compute aproximações para a média e o desvio padrão dessa estatística. Os valores que você obteve são próximos aos fornecidos acima? Explique."
      ],
      "metadata": {
        "id": "_VP7Xs6mxtVM"
      }
    },
    {
      "cell_type": "code",
      "source": [
        "diffMean = np.mean(diff)\n",
        "print(f\"Média amostral: {diffMean}\")\n",
        "diffDetour = np.std(diff)\n",
        "print(f\"Desvio padrão amostral: {diffDetour}\")"
      ],
      "metadata": {
        "colab": {
          "base_uri": "https://localhost:8080/"
        },
        "id": "0J-VddmSxyHH",
        "outputId": "3bb51310-ab3e-4306-e005-fb233e54b5d8"
      },
      "execution_count": null,
      "outputs": [
        {
          "output_type": "stream",
          "name": "stdout",
          "text": [
            "Média amostral: 10.053416696835999\n",
            "Desvio padrão amostral: 2.3469959965639466\n"
          ]
        }
      ]
    },
    {
      "cell_type": "markdown",
      "source": [
        "Sendo os valores teóricos da média = 10 e desvio padrão = 2.35, esses valores estão próximos dos obtidos na simulação. O que indica a distribuição normal prevista no TCL"
      ],
      "metadata": {
        "id": "WkyD-t2ZzaWf"
      }
    },
    {
      "cell_type": "markdown",
      "source": [
        "### (iii)  Uma vez conhecidos a média e o erro padrão da distribuição amostral de uma estatística, é possível responder a diversas perguntas. Para o caso da estatística aqui mencionada (diferença entre as médias), responda a seguinte pergunta: Se um experimento com o medicamento para a memória descrito for realizado, qual é a probabilidade de a média do grupo de 10 sujeitos que receberam o medicamento ser 15 ou mais pontos maior do que a média dos 8 sujeitos que não receberam o medicamento?"
      ],
      "metadata": {
        "id": "jJMlgDoP0lNZ"
      }
    },
    {
      "cell_type": "code",
      "source": [
        "score = 15\n",
        "prob = 1 - norm.cdf(score,loc=diffMean, scale=diffDetour)\n",
        "print(f\"Probabilidade de: {prob*100}%\")"
      ],
      "metadata": {
        "colab": {
          "base_uri": "https://localhost:8080/"
        },
        "id": "hH_77os50n8-",
        "outputId": "29fea276-a205-4175-a336-69a36e97edce"
      },
      "execution_count": null,
      "outputs": [
        {
          "output_type": "stream",
          "name": "stdout",
          "text": [
            "Probabilidade de: 1.7531795917152593%\n"
          ]
        }
      ]
    },
    {
      "cell_type": "markdown",
      "source": [
        "Usando a função norm.cdf da biblioteca numpy é possível calcular a probabilidade acumalada da diferença até 15 pontos da distribuição para então ver seu complemento, a probabilidade de ser maior que 15."
      ],
      "metadata": {
        "id": "54pxLRINF8U8"
      }
    },
    {
      "cell_type": "markdown",
      "source": [
        "# **4 Áudio ou texto?**"
      ],
      "metadata": {
        "id": "xcAjxa7w_ukt"
      }
    },
    {
      "cell_type": "markdown",
      "source": [
        " Imagine que você seja um candidato a emprego tentando apresentar suas ha\n",
        "bilidades a um recrutador em um processo seletivo de uma empresa. Em qual\n",
        " das duas condições abaixo você teria mais chances de conseguir o emprego?\n",
        " • você grava um áudio com um breve discurso descrevendo suas habili\n",
        "dades para o recrutador;\n",
        " • você escreve um breve texto para que o recrutador o leia.\n",
        " A questão de pesquisa acima foi levantada por Schroeder and Epley\n",
        " (2015). Nesse artigo, os autores concluíram que a maneira como uma pessoa\n",
        " fala (ou seja, tom vocal, cadência, etc.) comunica informações sobre seu in\n",
        "telecto melhor do que suas palavras escritas (mesmo que sejam as mesmas\n",
        " palavras usadas no discurso falado).\n",
        " Para examinar a questão de pesquisa descrita acima, os autores desig\n",
        "naram aleatoriamente 39 recrutadores profissionais de empresas da Fortune\n",
        " 5003 para uma de duas condições.\n",
        "\n",
        " * Na condição de áudio, os participantes ouvem gravações de áudio do\n",
        " discurso falado de um candidato a emprego.\n",
        "\n",
        " * Na condição de transcrição, os participantes lêem uma transcrição do\n",
        " discurso do candidato a emprego.\n",
        "\n",
        " Depois de ouvir ou ler o discurso, os participantes classificaram os candi\n",
        "datos a emprego em três dimensões: inteligência, competência e foco. Essas\n",
        " classificações foram então usadas para criar uma única medida do intelecto do candidato, com pontuações mais altas indicando que os recrutadores classifi\n",
        "caram os candidatos como superiores em intelecto. Os participantes também\n",
        " avaliaram sua impressão geral do candidato ao emprego (uma combinação de\n",
        " dois itens medindo impressões positivas e negativas). Por fim, os participan\n",
        "tes indicaram qual o potencial de recomendar a contratação do candidato (0- nada provável, 10- extremamente provável).\n",
        "Oconjunto de dados fornecido para realizar essa parte do trabalho está no\n",
        " arquivo SchroederEpley2015data.txt. Nesse conjunto de dados, há várias\n",
        " colunas. Contudo, há duas colunas de interesse para esta parte do trabalho.\n",
        "\n",
        " * a coluna CONDITION indica o condição à qual cada recrutador foi alo\n",
        "cador. O valor 1 indica que o recrutador foi alocado na condição de\n",
        " áudio; O valor 0 indica que o recrutador foi alocado na condição de\n",
        " transcrição.\n",
        "\n",
        " * a coluna Intellect_Rating indica a avaliação que cada recrutador\n",
        " atribuiu ao candidato. Essa avaliação é um valor inteiro entre 0 e 10.\n",
        "\n",
        " Repare que a coluna CONDITION permite dividir a coleção de valores de\n",
        " avaliações em duas amostras distintas, que vamos chamar de Sa e de St.\n",
        " As amostras Sa e St correspondem aos valores de avaliação atribuídos por\n",
        " recrutadores nas condições de áudio e de transcrição, respectivamente."
      ],
      "metadata": {
        "id": "LwhpqxICGafa"
      }
    },
    {
      "cell_type": "markdown",
      "source": [
        "###  **(i)** Compute a média e o tamanho (quantidade de observações) tanto para Sa quanto St."
      ],
      "metadata": {
        "id": "UoetqYPfTAYy"
      }
    },
    {
      "cell_type": "code",
      "source": [
        "df = pd.read_csv('SchroederEpley2015data.txt')\n",
        "Sa = df[df[\"CONDITION\"] == 1][\"Intellect_Rating\"]\n",
        "St = df[df[\"CONDITION\"] == 0][\"Intellect_Rating\"]\n",
        "\n",
        "meanSa, nSa = Sa.mean(), Sa.count()\n",
        "meanSt, nSt = St.mean(), St.count()\n",
        "\n",
        "print(f\"Audio - média: {meanSa:.2f}, tamanho: {nSa}\")\n",
        "print(f\"Transcrição - média: {meanSt:.2f}, tamanho: {nSt}\")"
      ],
      "metadata": {
        "colab": {
          "base_uri": "https://localhost:8080/"
        },
        "id": "pzKQFXepTQT_",
        "outputId": "179afa67-01e0-4c31-9de0-ac6ffefc7d30"
      },
      "execution_count": null,
      "outputs": [
        {
          "output_type": "stream",
          "name": "stdout",
          "text": [
            "Audio - média: 5.63, tamanho: 21\n",
            "Transcrição - média: 3.65, tamanho: 18\n"
          ]
        }
      ]
    },
    {
      "cell_type": "markdown",
      "source": [
        "Com a biblioteca pandas o arquivo é lido como csv que já vem no formato de um dataframe, ao filtrar a coluna CONDITION tem-se um dataset de audio e um de transcrição. Assim são computadas as médias e valores de cada."
      ],
      "metadata": {
        "id": "xocZdVkTGUL4"
      }
    },
    {
      "cell_type": "markdown",
      "source": [
        "### **(ii)** Construa um boxplot para apresentar graficamente as duas amostras. Seu gráfico deve ser semelhante ao apresentado na Figura 1. Em Python, você pode usar a biblioteca Seaborn. Em R, você pode usar a biblioteca GGPLOT2. Forneça uma análise das informações fornecidas pelo gráfico.\n"
      ],
      "metadata": {
        "id": "BXrZHeFsVqI1"
      }
    },
    {
      "cell_type": "code",
      "source": [
        "plt.figure(figsize=(6, 5))\n",
        "sns.boxplot(x=\"CONDITION\", y=\"Intellect_Rating\", palette=['salmon','turquoise'], data=df,)\n",
        "plt.xticks([0, 1], [\"Transcrição\", \"Áudio\"])\n",
        "plt.xlabel(\"Tipo\")\n",
        "plt.ylabel(\"Avaliação\")\n",
        "plt.title(\"Boxplot Avaliações por Condição\")\n",
        "plt.show()"
      ],
      "metadata": {
        "colab": {
          "base_uri": "https://localhost:8080/",
          "height": 594
        },
        "id": "WTGA0i-dVsYc",
        "outputId": "025f3ef7-7e3d-4128-851a-b3ea41848b44"
      },
      "execution_count": null,
      "outputs": [
        {
          "output_type": "stream",
          "name": "stderr",
          "text": [
            "/tmp/ipython-input-3450560217.py:2: FutureWarning: \n",
            "\n",
            "Passing `palette` without assigning `hue` is deprecated and will be removed in v0.14.0. Assign the `x` variable to `hue` and set `legend=False` for the same effect.\n",
            "\n",
            "  sns.boxplot(x=\"CONDITION\", y=\"Intellect_Rating\", palette=['salmon','turquoise'], data=df,)\n"
          ]
        },
        {
          "output_type": "display_data",
          "data": {
            "text/plain": [
              "<Figure size 600x500 with 1 Axes>"
            ],
            "image/png": "[encoded data removed]"
          },
          "metadata": {}
        }
      ]
    },
    {
      "cell_type": "markdown",
      "source": [
        "Usando seaborn para contruir o boxplot comparativo é clara a diferença do tipo de entrevista com o audio se saindo bem melhor com todo o seu intervalo interquartil acima da mediana das entrevistas por texto."
      ],
      "metadata": {
        "id": "vynQztJhHncm"
      }
    },
    {
      "cell_type": "markdown",
      "source": [
        "### **(iii)** Aplique um teste de normalidade em ambas as amostras, Sa e St. Apresente uma análise do resultado obtido\n"
      ],
      "metadata": {
        "id": "i0W-T2IZZRML"
      }
    },
    {
      "cell_type": "code",
      "source": [
        "# Separando as amostras\n",
        "Sa = df[df[\"CONDITION\"] == 1][\"Intellect_Rating\"]\n",
        "St = df[df[\"CONDITION\"] == 0][\"Intellect_Rating\"]\n",
        "\n",
        "# Teste de Shapiro-Wilk\n",
        "statSa, pSa = stats.shapiro(Sa)\n",
        "statSt, pSt = stats.shapiro(St)\n",
        "\n",
        "print(\"Sa (Áudio): estatística =\", statSa, \" p-valor =\", pSa)\n",
        "print(\"St (Transcrição): estatística =\", statSt, \" p-valor =\", pSt)\n",
        "\n",
        "if pSa > 0.05:\n",
        "    print(\"Sa segue distribuição normal\")\n",
        "else:\n",
        "    print(\"Sa NÃO segue distribuição normal\")\n",
        "\n",
        "if pSt > 0.05:\n",
        "    print(\"St segue distribuição normal\")\n",
        "else:\n",
        "    print(\"St NÃO segue distribuição normal\")\n"
      ],
      "metadata": {
        "colab": {
          "base_uri": "https://localhost:8080/"
        },
        "id": "8qI26QqNZkEh",
        "outputId": "37989c37-ee37-48da-cc8b-db94ba75a51d"
      },
      "execution_count": null,
      "outputs": [
        {
          "output_type": "stream",
          "name": "stdout",
          "text": [
            "Sa (Áudio): estatística = 0.9350407950235545  p-valor = 0.17365077802186274\n",
            "St (Transcrição): estatística = 0.9512397971631612  p-valor = 0.4447967589528345\n",
            "Sa segue distribuição normal\n",
            "St segue distribuição normal\n"
          ]
        }
      ]
    },
    {
      "cell_type": "markdown",
      "source": [
        "Usando implementação da biblioteca spicy.stats do teste de Shapiro-Wilk é calculado um valor *P* que caso seja maior que onível de significância(0.05) indica que os dados seguem uma distribuição normal"
      ],
      "metadata": {
        "id": "gucr92AZ7nGM"
      }
    },
    {
      "cell_type": "markdown",
      "source": [
        "####  **(iv)** Construa um intervalo de confiança para a média de avaliações produzidas por duas populações distintas, P1 e P2, descritas abaixo.\n",
        "- P1: todos os recrutadores que ouvem os áudios\n",
        "- P2: todos os recrutadores que leem os transcritos\n",
        "  \n",
        "Note que a resposta a este item devem ser dois intervalos de confiança.\n",
        "Nos dois casos, use o nível de confiança de 99%."
      ],
      "metadata": {
        "id": "hUjd1IN490U7"
      }
    },
    {
      "cell_type": "code",
      "source": [
        "Sa = df[df[\"CONDITION\"] == 1][\"Intellect_Rating\"]\n",
        "St = df[df[\"CONDITION\"] == 0][\"Intellect_Rating\"]\n",
        "\n",
        "def IC99(sample):\n",
        "  mean = np.mean(sample)\n",
        "  detour = np.std(sample, ddof = 1)\n",
        "  n = sample.shape[0]\n",
        "  df = n - 1\n",
        "  alpha = 1 - 0.99\n",
        "  tScore = stats.t.ppf(alpha/2, df)\n",
        "  stdErr = np.abs(tScore * detour/np.sqrt(n))\n",
        "  low = mean - stdErr\n",
        "  high = mean + stdErr\n",
        "  return low, high\n",
        "\n",
        "lowSa, highSa = IC99(Sa)\n",
        "lowSt, highSt = IC99(St)\n",
        "print(\"P1 - Audio - IC 99%%: (%.2f, %.2f)\" % (lowSa,highSa))\n",
        "print(\"P2 - Transcrição - IC 99%%: (%.2f, %.2f)\" % (lowSt,highSt))"
      ],
      "metadata": {
        "colab": {
          "base_uri": "https://localhost:8080/"
        },
        "id": "ihoH8AwmoBnh",
        "outputId": "2a80c72d-9fe5-48af-b96c-f1fc37e345ef"
      },
      "execution_count": null,
      "outputs": [
        {
          "output_type": "stream",
          "name": "stdout",
          "text": [
            "P1 - Audio - IC 99%: (4.64, 6.63)\n",
            "P2 - Transcrição - IC 99%: (2.34, 4.95)\n"
          ]
        }
      ]
    },
    {
      "cell_type": "markdown",
      "source": [
        "Fórmula usada:\n",
        "\n",
        "![image.png](data:image/png;base64,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)"
      ],
      "metadata": {
        "id": "sYQPSqb8KJdp"
      }
    },
    {
      "cell_type": "markdown",
      "source": [
        "Foi criada uma função que ao receber a amostra, calcula a média, o desvio padrão e o valor crítico para 99% com .ppf, assim é calculado o erro padrão para gerar o intervalo com a confiança de 99%"
      ],
      "metadata": {
        "id": "Dbt1vkkEuQDm"
      }
    },
    {
      "cell_type": "markdown",
      "source": [
        " ### **(v)** Com base nos intervalos de confiança obtidos no item anterior, você acha que a conclusão a que chegaram os autores em Schroeder and Epley (2015) é válida? Justifique sua resposta"
      ],
      "metadata": {
        "id": "UPQAY_osvtQd"
      }
    },
    {
      "cell_type": "markdown",
      "source": [
        "Sim, já que os dados mostram o intervalo de confiança da entrevista por audio recebeu avaliações melhores, tendo um intervalo de confiança de 99% em uma faixa de valores bem mais altos. Implicando que a hipótese que por se comunicar por audio era melhor avaliado ao se poder analisar tom, cadência da voz etc."
      ],
      "metadata": {
        "id": "9Gq00tWZvyME"
      }
    },
    {
      "cell_type": "markdown",
      "source": [
        "#  **5 Intervalo de confiança para altura média**"
      ],
      "metadata": {
        "id": "o4BY9Ebiwuv9"
      }
    },
    {
      "cell_type": "markdown",
      "source": [
        "Essa parte do trabalho envolve computar um intervalo de confiança para a média das alturas dos estudantes de uma universidade. Você deve realizar essa parte do trabalho usando como amostra os dados contidos no conjunto de dados fornecido no arquivo survey.csv. Esse conjunto de dados contém o resultado de uma pesquisa feita com uma amostra de estudantes em uma universidade australiana. Os atributos desse conjunto de dados são descritos a seguir.\n",
        "\n",
        "- **Sex**: O sexo do aluno. (Fator com os níveis *Male* e *Female*.)\n",
        "- **Wr.Hnd**: Vão (distância da ponta do polegar à ponta do dedo mínimo da mão aberta) da mão que escreve, em centímetros.\n",
        "- **NW.Hnd**: Extensão da mão que não escreve.\n",
        "- **W.Hnd**: Mão de escrita. (*Left* ou *Right*.)\n",
        "- **Fold**: \"Cruze os braços! Qual está no topo?\" (*R on L*, *L on R*, *Neither*.)\n",
        "- **Pulse**: Taxa de pulso do aluno (batimentos por minuto).\n",
        "- **Clap**: \"Bata palmas! Qual mão está para cima?\" (*Right*, *Left*, *None*.)\n",
        "- **Exer**: Quantas vezes o aluno se exercita. (*Freq* (frequentemente), *Some*, *None*.)\n",
        "- **Smoke**: Quanto o aluno fuma. (*Heavy*, *Regul* (regularmente), *Occas* (ocasionalmente), *Never*.)\n",
        "- **Height**: Altura do aluno em centímetros.\n",
        "- **M.I**: Se o aluno expressou a altura em unidades imperiais (pés/polegadas) ou métricas (centímetros/metros). (*Metric*, *Imperial*.)\n",
        "- **Age**: Idade do aluno em anos.\n",
        "\n",
        "\n",
        "No Python, o arquivo survey.csv deve ser carregado inicialmente. Você pode fazer isso por meio da biblioteca Pandas, conforme exemplo na Listagem 4.\n",
        "\n",
        "A variável de interesse está na coluna Height do conjunto de dados. Inicialmente, você deve eliminar valores faltantes (missing values) nessa coluna. Para isso, pesquise sobre a função na.omit da linguagem R ou sobre a função drop.na da biblioteca Pandas em Python.\n",
        "Agora, realize o que se pede a seguir."
      ],
      "metadata": {
        "id": "D4tbfePTwy9m"
      }
    },
    {
      "cell_type": "code",
      "source": [
        "df = pd.read_csv('survey.csv')\n",
        "df = df.dropna(subset=['Height'])\n",
        "heights = df['Height']"
      ],
      "metadata": {
        "id": "7mHg_q_4_DkZ"
      },
      "execution_count": null,
      "outputs": []
    },
    {
      "cell_type": "markdown",
      "source": [
        "Leitura do arquivo csv para dataframe pandas"
      ],
      "metadata": {
        "id": "N15Ckj5ULamX"
      }
    },
    {
      "cell_type": "markdown",
      "source": [
        "### **(i)** Usando a distribuição t de Student, calcule um intervalo de confiança no nível de 95% para a altura média dos estudantes da universidade."
      ],
      "metadata": {
        "id": "HSOBQQ_M-7yg"
      }
    },
    {
      "cell_type": "code",
      "source": [
        "mean = np.mean(heights)\n",
        "detour = np.std(heights, ddof=1)\n",
        "n = heights.shape[0]\n",
        "df = n - 1\n",
        "alpha = 1 - 0.95\n",
        "tScore = stats.t.ppf(alpha/2, df)\n",
        "stdErr = np.abs(tScore * detour/np.sqrt(n))\n",
        "low = mean - stdErr\n",
        "high = mean + stdErr\n",
        "print(\"IC 95%%: (%.2f, %.2f)\" % (low,high))"
      ],
      "metadata": {
        "colab": {
          "base_uri": "https://localhost:8080/"
        },
        "id": "Z6ZfGb3xABWi",
        "outputId": "9656ddda-1f3c-4009-bb47-c0395e282ad5"
      },
      "execution_count": null,
      "outputs": [
        {
          "output_type": "stream",
          "name": "stdout",
          "text": [
            "IC 95%: (171.04, 173.72)\n"
          ]
        }
      ]
    },
    {
      "cell_type": "markdown",
      "source": [
        "Usando os mesmos passos do exercício anterior o qual se calculava o intervalo de confiança para os scores das entrevista de audio e texto. Mas trocando o alpha para corresponder a 95% das alturas dos alunos"
      ],
      "metadata": {
        "id": "2HS48Sk2hYu9"
      }
    },
    {
      "cell_type": "markdown",
      "source": [
        "###  **(ii)** Construa outro intervalo de confiança, desta vez usando o z-score (em vez do t-score que você usou anteriormente)."
      ],
      "metadata": {
        "id": "vL04unRYh6jp"
      }
    },
    {
      "cell_type": "code",
      "source": [
        "mean = np.mean(heights)\n",
        "std = np.std(heights, ddof=1)\n",
        "n = heights.shape[0]\n",
        "\n",
        "alpha = 0.95\n",
        "z_crit = np.abs(stats.norm.ppf((1 - alpha)/2))\n",
        "margin_error = z_crit * (std / np.sqrt(n))\n",
        "\n",
        "low = mean - margin_error\n",
        "high = mean + margin_error\n",
        "\n",
        "print(\"IC: [%.2f, %.2f]\" % (low, high))"
      ],
      "metadata": {
        "colab": {
          "base_uri": "https://localhost:8080/"
        },
        "id": "N2rROPeKh9P1",
        "outputId": "a29f7956-aec7-4b8d-feba-a216762ea15e"
      },
      "execution_count": null,
      "outputs": [
        {
          "output_type": "stream",
          "name": "stdout",
          "text": [
            "IC: [171.05, 173.72]\n"
          ]
        }
      ]
    },
    {
      "cell_type": "markdown",
      "source": [
        "![image.png](data:image/png;base64,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)"
      ],
      "metadata": {
        "id": "vlGEVSMvMKQ9"
      }
    },
    {
      "cell_type": "markdown",
      "source": [
        "Ao construir o intervalo com Zscore o valor se manteve bem próximo do obtido com o Student"
      ],
      "metadata": {
        "id": "-KO-ZOvGm8Za"
      }
    },
    {
      "cell_type": "markdown",
      "source": [
        " ### **(iii)** Apresente uma análise comparativa dos dois intervalos de confiança obtidos."
      ],
      "metadata": {
        "id": "RM5Zs1fSnMVh"
      }
    },
    {
      "cell_type": "markdown",
      "source": [
        "Ambos os intervalos estão bem próximos, student tende a se sair melhor em amostras pequenas pois leva em conta a incerteza extra de estimar o desvio padrão. Mas nesse caso a amostra é grande n>30 e o método usando Z score se saiu desprezivelmente melhor."
      ],
      "metadata": {
        "id": "EONJ9No2ry-g"
      }
    },
    {
      "cell_type": "markdown",
      "source": [
        "# 6 **Intervalo de confiança para proporção**"
      ],
      "metadata": {
        "id": "jOAIujLV1o4_"
      }
    },
    {
      "cell_type": "markdown",
      "source": [
        " Nesta parte do trabalho, você deve considerar a mesma amostra contida\n",
        " no conjunto de dados survey. Dessa vez, você deve produzir um intervalo\n",
        " de confiança para a proporção de alunos da universidade que são canhotos.\n",
        " Sendo assim, dessa vez a coluna de interesse é W.Hnd."
      ],
      "metadata": {
        "id": "g2Bvcyky1t8k"
      }
    },
    {
      "cell_type": "markdown",
      "source": [
        "### **(i)** Primeiramente, se certifique de que existem pelo menos 10 estudantes destros e pelo menos 10 estudantes canhotos, para que você possa realizar a construção do intervalo de confiança de forma satisfatória."
      ],
      "metadata": {
        "id": "iFeY-Pwn2y-A"
      }
    },
    {
      "cell_type": "code",
      "source": [
        "df = pd.read_csv('survey.csv')\n",
        "df = df.dropna(subset=['W.Hnd'])\n",
        "hands = df['W.Hnd']\n",
        "right = hands.value_counts()['Right']\n",
        "left = hands.value_counts()['Left']\n",
        "print(f\"Canhotos: {left}\")\n",
        "print(f\"Destros: {right}\")\n"
      ],
      "metadata": {
        "colab": {
          "base_uri": "https://localhost:8080/"
        },
        "id": "pyeq7AUS10-e",
        "outputId": "904b2d93-9619-4340-c39d-ddc678784e0a"
      },
      "execution_count": null,
      "outputs": [
        {
          "output_type": "stream",
          "name": "stdout",
          "text": [
            "Canhotos: 18\n",
            "Destros: 218\n"
          ]
        }
      ]
    },
    {
      "cell_type": "markdown",
      "source": [
        "Ao ler o arquivo com pandas, usa-se value_counts para contar cada um dos valores do parâmetro de interesse, constatando que sim, há pelo menos 10 destros e 10 canhotos."
      ],
      "metadata": {
        "id": "m2k4BVFf5Ejk"
      }
    },
    {
      "cell_type": "markdown",
      "source": [
        "### **(ii)** Produza o intervalo de confiança solicitado, usando o nível de confiança 90%. Junto com o resultado, forneça também uma análise."
      ],
      "metadata": {
        "id": "9374krE46QYF"
      }
    },
    {
      "cell_type": "code",
      "source": [
        "n = hands.shape[0]\n",
        "pHat = left/n\n",
        "stdErr = np.sqrt(pHat*(1-pHat)/n)\n",
        "low, high = norm.interval(confidence=0.90, loc=pHat, scale=stdErr)\n",
        "print(f\"IC 90% para a proporção de canhotos: ({low:.3f}, {high:.3f})\")"
      ],
      "metadata": {
        "colab": {
          "base_uri": "https://localhost:8080/"
        },
        "id": "kG_X7H5y6Xqs",
        "outputId": "d6ed007b-40ab-4472-ff8f-6c3d99880317"
      },
      "execution_count": null,
      "outputs": [
        {
          "output_type": "stream",
          "name": "stdout",
          "text": [
            "IC 90% para a proporção de canhotos: (0.048, 0.105)\n"
          ]
        }
      ]
    },
    {
      "cell_type": "markdown",
      "source": [
        "![image.png](data:image/png;base64,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)"
      ],
      "metadata": {
        "id": "vKgyN4HVMt2s"
      }
    },
    {
      "cell_type": "markdown",
      "source": [
        "Ao computar a chance de ser canhoto e o desvio padrão com a fórmula acima, é usada a função norm.interval que gera os intervalos de confiança setados em 90% para os dados obtidos."
      ],
      "metadata": {
        "id": "05WJvdjvN-9H"
      }
    },
    {
      "cell_type": "markdown",
      "source": [
        "###  **(iii)** Produza o intervalo de confiança solicitado, usando o nível de confiança 95%. Junto com o resultado, forneça também uma análise e compare com o resultado obtido no item anterior"
      ],
      "metadata": {
        "id": "NtTVed5ENVTj"
      }
    },
    {
      "cell_type": "code",
      "source": [
        "low, high = norm.interval(confidence=0.95, loc=pHat, scale=stdErr)\n",
        "print(f\"IC 90% para a proporção de canhotos: ({low:.3f}, {high:.3f})\")"
      ],
      "metadata": {
        "colab": {
          "base_uri": "https://localhost:8080/"
        },
        "id": "lavKy-VTNYIk",
        "outputId": "6b05d927-6ef1-48ff-8fbf-947ee94fe018"
      },
      "execution_count": null,
      "outputs": [
        {
          "output_type": "stream",
          "name": "stdout",
          "text": [
            "IC 90% para a proporção de canhotos: (0.042, 0.110)\n"
          ]
        }
      ]
    },
    {
      "cell_type": "markdown",
      "source": [
        "Trocando o parâmetro da função de 90% para 95% de confiança observa-se que o intervalo de números aumentou, tronou-se menos exato pela natureza do problema que ao aumentar o número de amostras que contenham o valor real, o intervalo precisa aumentar."
      ],
      "metadata": {
        "id": "T0kBTUwyOqx8"
      }
    },
    {
      "cell_type": "markdown",
      "source": [
        " ### **(iv)** Repita os itens (i), (ii) e (iii), desta vez considerando o atributo Sex."
      ],
      "metadata": {
        "id": "IZELwdQGPdmU"
      }
    },
    {
      "cell_type": "code",
      "source": [
        "df = pd.read_csv('survey.csv')\n",
        "df = df.dropna(subset=['Sex'])\n",
        "sex = df['Sex']\n",
        "m = sex.value_counts()['Male']\n",
        "f = sex.value_counts()['Female']\n",
        "print(f\"Homens: {m}\")\n",
        "print(f\"Mulheres: {f}\")"
      ],
      "metadata": {
        "colab": {
          "base_uri": "https://localhost:8080/"
        },
        "id": "DdPRKsLEPj4j",
        "outputId": "e9dbc88a-ce24-41f9-e55f-b44ecbb8b6a6"
      },
      "execution_count": null,
      "outputs": [
        {
          "output_type": "stream",
          "name": "stdout",
          "text": [
            "Homens: 118\n",
            "Mulheres: 118\n"
          ]
        }
      ]
    },
    {
      "cell_type": "markdown",
      "source": [
        "Usando value_counts observa-se que ambos os possíveis valores são superiores a 10"
      ],
      "metadata": {
        "id": "VUfJl_B0R-yr"
      }
    },
    {
      "cell_type": "code",
      "source": [
        "n = sex.shape[0]\n",
        "pHat = f/n\n",
        "stdErr = np.sqrt(pHat*(1-pHat)/n)\n",
        "lowF, highF = norm.interval(confidence=0.90, loc=pHat, scale=stdErr)\n",
        "\n",
        "n = sex.shape[0]\n",
        "pHat = m/n\n",
        "stdErr = np.sqrt(pHat*(1-pHat)/n)\n",
        "lowM, highM = norm.interval(confidence=0.90, loc=pHat, scale=stdErr)\n",
        "\n",
        "print(f\"IC 90% para a proporção de homens: ({lowM:.3f}, {highM:.3f})\")\n",
        "print(f\"IC 90% para a proporção de mulheres: ({lowF:.3f}, {highF:.3f})\")"
      ],
      "metadata": {
        "colab": {
          "base_uri": "https://localhost:8080/"
        },
        "id": "ILsferQtSFZm",
        "outputId": "fe156ef2-77fb-4e0b-ffd8-12c4f7d6e41e"
      },
      "execution_count": null,
      "outputs": [
        {
          "output_type": "stream",
          "name": "stdout",
          "text": [
            "IC 90% para a proporção de homens: (0.446, 0.554)\n",
            "IC 90% para a proporção de mulheres: (0.446, 0.554)\n"
          ]
        }
      ]
    },
    {
      "cell_type": "markdown",
      "source": [
        "Calculando o intervalo de confiança para o valor 90% com norm.interval obtem-se o mesmo valor tanto para sexo masculino quanto feminimo pois ambos tem a mesma probabilidade, a amostra é exatamente 50% de cada."
      ],
      "metadata": {
        "id": "mYATWdweTZyR"
      }
    },
    {
      "cell_type": "code",
      "source": [
        "n = sex.shape[0]\n",
        "pHat = f/n\n",
        "stdErr = np.sqrt(pHat*(1-pHat)/n)\n",
        "lowF, highF = norm.interval(confidence=0.95, loc=pHat, scale=stdErr)\n",
        "\n",
        "n = sex.shape[0]\n",
        "pHat = m/n\n",
        "stdErr = np.sqrt(pHat*(1-pHat)/n)\n",
        "lowM, highM = norm.interval(confidence=0.95, loc=pHat, scale=stdErr)\n",
        "\n",
        "print(f\"IC 95% para a proporção de homens: ({lowM:.3f}, {highM:.3f})\")\n",
        "print(f\"IC 95% para a proporção de mulheres: ({lowF:.3f}, {highF:.3f})\")"
      ],
      "metadata": {
        "colab": {
          "base_uri": "https://localhost:8080/"
        },
        "id": "SXI3mpFoT0gy",
        "outputId": "261d2cdf-f644-4c3a-892d-8b9fc50f4b20"
      },
      "execution_count": null,
      "outputs": [
        {
          "output_type": "stream",
          "name": "stdout",
          "text": [
            "IC 95% para a proporção de homens: (0.436, 0.564)\n",
            "IC 95% para a proporção de mulheres: (0.436, 0.564)\n"
          ]
        }
      ]
    },
    {
      "cell_type": "markdown",
      "source": [
        "Novamente usando norm.interval o valor foi o mesmo para ambos os sexos pelo seu número na amostra ser igual, mas dessa vez como o nível de confiança aumentou o intervalo entre os números cresceu em realação a última célula."
      ],
      "metadata": {
        "id": "273ix7kZT8QD"
      }
    },
    {
      "cell_type": "markdown",
      "source": [
        " ### **(v)** A amostra correspondente ao conjunto de dados survey tem tamanho suficiente para produzir um intervalo de confiança para a característica Sexo (coluna Sexo) com um erro amostral de 2 pontos percentuais? Se sim, construa esse intervalo de confiança usando nível de confiança 90%. Se não, explique."
      ],
      "metadata": {
        "id": "sT_wQSLwUh-d"
      }
    },
    {
      "cell_type": "code",
      "source": [
        "n = sex.shape[0]\n",
        "pHat = f/n\n",
        "alpha = 1 - 0.90\n",
        "z_crit = stats.norm.ppf(1 - alpha/2)\n",
        "err = 0.02\n",
        "required = (z_crit**2 * pHat * (1 - pHat)) / (err**2)\n",
        "print(f\"Tamanho da amostra: {n}\")\n",
        "print(f\"Tamanho necessário para erro menor que 2%: {required:.3f}\")"
      ],
      "metadata": {
        "colab": {
          "base_uri": "https://localhost:8080/"
        },
        "id": "GBZ2yUxdWrfZ",
        "outputId": "2b2f155a-96c6-4361-f001-5b72ea761fa6"
      },
      "execution_count": null,
      "outputs": [
        {
          "output_type": "stream",
          "name": "stdout",
          "text": [
            "Tamanho da amostra: 236\n",
            "Tamanho necessário para erro menor que 2%: 1690.965\n"
          ]
        }
      ]
    },
    {
      "cell_type": "markdown",
      "source": [
        " ![image.png](data:image/png;base64,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)"
      ],
      "metadata": {
        "id": "--UG3UHGdr5O"
      }
    },
    {
      "cell_type": "markdown",
      "source": [
        "Com a fórmula acima foi possível calcular a quantidade mínima de amostras(n) para se obter um erro inferior a 2 pontos percentuais com 90% de confiança.\n",
        "\n",
        "Sendo 'Z' calculado com norm.ppf que é o valor crítico da distribuição normal para 90%, 'E' o erro desejado e 'p(1-p)' a estimativa para a variância.\n",
        "\n",
        "Portanto, concluindo, não é possível construir o intervalo de confiança porque os dados não são suficientes."
      ],
      "metadata": {
        "id": "6JweOrMIhBCS"
      }
    }
  ]
}