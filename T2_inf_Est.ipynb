{
  "nbformat": 4,
  "nbformat_minor": 0,
  "metadata": {
    "colab": {
      "provenance": [],
      "authorship_tag": "ABX9TyNciL2th9CCa4xfhez9djaY",
      "include_colab_link": true
    },
    "kernelspec": {
      "name": "python3",
      "display_name": "Python 3"
    },
    "language_info": {
      "name": "python"
    }
  },
  "cells": [
    {
      "cell_type": "markdown",
      "metadata": {
        "id": "view-in-github",
        "colab_type": "text"
      },
      "source": [
        "<a href=\"https://colab.research.google.com/github/ErichJohann/inferencia-estatisca/blob/main/T2_inf_Est.ipynb\" target=\"_parent\"><img src=\"https://colab.research.google.com/assets/colab-badge.svg\" alt=\"Open In Colab\"/></a>"
      ]
    },
    {
      "cell_type": "markdown",
      "source": [
        "<a id=\"top\"></a>\n",
        "<div class=\"list-group\" id=\"list-tab\" role=\"tablist\">\n",
        "<h1 class=\"list-group-item list-group-item-action active\" data-toggle=\"list\" style='background:#005097; border:0' role=\"tab\" aria-controls=\"home\"><center>Inferência Estatística (GCC1625) - Trabalho 2</center></h1>\n",
        "\n",
        "- Nome completo: Erich Johann Costa de Carvalho\n",
        "- [Link Vídeo]()\n"
      ],
      "metadata": {
        "id": "Y90G-vjvl04D"
      }
    },
    {
      "cell_type": "code",
      "source": [
        "import numpy as np\n",
        "import scipy.stats as stats\n",
        "import matplotlib.pyplot as plt\n",
        "import pandas as pd\n",
        "from scipy.stats import ttest_1samp\n",
        "import seaborn as sns"
      ],
      "metadata": {
        "id": "_Pk6EK0bo8Ug"
      },
      "execution_count": 10,
      "outputs": []
    },
    {
      "cell_type": "markdown",
      "source": [
        "# 1 Máquina desregulada?\n",
        " Considere que uma máquina de preenchimento de garrafas está configurada para preencher cada\n",
        " garrafa com 500 ml de vinho. O fabricante suspeita de que essa máquina está preenchendo\n",
        " as garrafas com valores a menor. Ele então coleta uma amostra de 20 garrafas preenchidas a\n",
        " partir da linha de produção e mede cuidadosamente o volume em cada uma delas. Os resultados\n",
        " obtidos nessas medições estão a seguir (valores em miligramas):\n",
        "\n",
        " 484.11, 459.49, 471.38, 512.01, 494.48, 528.63, 493.64, 485.03, 473.88, 501.59, 502.85, 538.08,\n",
        " 465.68, 495.03, 475.32, 529.41, 518.13, 464.32, 449.08, 489.27\n",
        "\n",
        " Nessa parte do trabalho você deve verificar a alegação de que a máquina está desregulada,\n",
        " conforme a suspeita do fabricante."
      ],
      "metadata": {
        "id": "pskt4fQgnGsz"
      }
    },
    {
      "cell_type": "markdown",
      "source": [
        "### (i) Os procedimentos paramétricos de testes de hipóteses sobre uma amostra que estudamosem nosso curso presumem que a amostra a ser usada é proveniente de uma distribuição aproximadamente normal. Para a amostra fornecida verifique essa hipótese usando doisdos testes de normalidade que estudamos no curso, o teste de Shapiro-Wilk e o teste usando QQ-plot. Nessa verificação defina o nível de significância como α = 0.05."
      ],
      "metadata": {
        "id": "Wg_4SxT-nvAi"
      }
    },
    {
      "cell_type": "code",
      "execution_count": null,
      "metadata": {
        "colab": {
          "base_uri": "https://localhost:8080/"
        },
        "id": "Uunuyz4Zi_KC",
        "outputId": "a2dc473f-a8c8-4ccc-fb78-e6d343094210"
      },
      "outputs": [
        {
          "output_type": "stream",
          "name": "stdout",
          "text": [
            "0.8223267659331017\n"
          ]
        }
      ],
      "source": [
        "data = [484.11, 459.49, 471.38, 512.01, 494.48, 528.63, 493.64, 485.03, 473.88, 501.59,\n",
        "        502.85, 538.08, 465.68, 495.03, 475.32, 529.41, 518.13, 464.32, 449.08, 489.27]\n",
        "\n",
        "stat, p_value = stats.shapiro(data)\n",
        "print(p_value)"
      ]
    },
    {
      "cell_type": "markdown",
      "source": [
        "h0: Amostra provém de uma distribuição normal\n",
        "\n",
        "h1: A amostra não provém de uma distribuição normal\n",
        "\n",
        "Como p > 0.05 não rejeitamos h0, ou seja a amostra não apresenta evidência contra a normalidade."
      ],
      "metadata": {
        "id": "EI4qUPqyvO_e"
      }
    },
    {
      "cell_type": "code",
      "source": [
        "plt.figure(figsize=(5,4))\n",
        "stats.probplot(data, dist=\"norm\", plot=plt)\n",
        "plt.show()"
      ],
      "metadata": {
        "colab": {
          "base_uri": "https://localhost:8080/",
          "height": 419
        },
        "id": "koRc4ToVyTVB",
        "outputId": "8a735c2b-6c84-4fcb-bcef-23ee625715a4"
      },
      "execution_count": null,
      "outputs": [
        {
          "output_type": "display_data",
          "data": {
            "text/plain": [
              "<Figure size 500x400 with 1 Axes>"
            ],
            "image/png": "[encoded data removed]"
          },
          "metadata": {}
        }
      ]
    },
    {
      "cell_type": "markdown",
      "source": [
        "Como os pontos não se distanciam muito da linha vermelha, mantendo-se bem próximos a distribuição pode ser considerada normal."
      ],
      "metadata": {
        "id": "Ty3aG5CL0JBJ"
      }
    },
    {
      "cell_type": "markdown",
      "source": [
        "### (ii) Agora, aplique o teste de hipóteses. Repare que a variância da população é desconhecida; sendo assim, certifique-se de usar o procedimento de teste de hipóteses adequado para essa situação. Apresente sua análise para o nível de significância igual a 1%. Apresente e descreva claramente a aplicação dos quatro passos do procedimento."
      ],
      "metadata": {
        "id": "_oU9e-xWq7nA"
      }
    },
    {
      "cell_type": "code",
      "source": [
        "x = np.array(data)\n",
        "n = len(x)\n",
        "\n",
        "x_bar = np.mean(data)\n",
        "s = np.std(data, ddof=1)\n",
        "t_calc = (x_bar - 500) / (s / np.sqrt(n))\n",
        "\n",
        "p_valor = stats.t.cdf(t_calc, df=n-1)\n",
        "\n",
        "print(f\"média amostral: {x_bar}\")\n",
        "print(f\"desvio padrão amostral: {s}\")\n",
        "print(f\"t calculado: {t_calc}\")\n",
        "print(f\"p valor: {p_valor}\\n\")\n",
        "\n",
        "if p_valor < 0.01:\n",
        "    print(\"Rejeitamos a hipótese nula\")\n",
        "else:\n",
        "    print(\"Não rejeitamos a hipótese nula\")"
      ],
      "metadata": {
        "colab": {
          "base_uri": "https://localhost:8080/"
        },
        "id": "MHK2pMDDrC_v",
        "outputId": "b7a34141-7d42-4f72-98aa-f559d47af1d1"
      },
      "execution_count": null,
      "outputs": [
        {
          "output_type": "stream",
          "name": "stdout",
          "text": [
            "média amostral: 491.5705\n",
            "desvio padrão amostral: 24.793684356048583\n",
            "t calculado: -1.5204626102079257\n",
            "p valor: 0.07243112641629511\n",
            "\n",
            "Não rejeitamos a hipótese nula\n"
          ]
        }
      ]
    },
    {
      "cell_type": "markdown",
      "source": [
        "1- Formulação da hipótese:\n",
        "\n",
        "Hipótese nula (h0) - A máquina não está desregulada, a média de ml nas garrafas é 500. μ = 500\n",
        "\n",
        "Hipótese alternativa (h1) - A máquina está desregulada enchendo menos que 500ml por garrafa. μ < 500\n",
        "\n",
        "\n",
        "2- Cálculo das estatísticas:\n",
        "\n",
        "Como a mostra é pequena (n < 30) e o desvio padrão é desconhecido usamos teste T, que segue a distribuição de student, implementado a fórmula abaixo no código.\n",
        "$$\n",
        "t = \\frac{\\bar{x} - \\mu_0}{s / \\sqrt{n}}\n",
        "$$\n",
        "\n",
        "3- Computar p valor associado a estatística.\n",
        "Baseado no nível de significância dado = 0.01 e como queremos saber se a máquina está preenchendo abaixo do valor esperado, usamos a área da cauda à esquerda.\n",
        "\n",
        "4- Tomamos a decisão. Se p_valor < alfa, no caso p_valor < 0.01, rejeitamos h0, em contraste, se p_valor > 0.01, não há evidência forte o suficiente para rejeitar h0."
      ],
      "metadata": {
        "id": "7N7QoT_RYR36"
      }
    },
    {
      "cell_type": "markdown",
      "source": [
        " # 2 Um estilo diferente ajuda?\n",
        " O conjunto de dados fornecido no arquivo golfe.csv lista as pontuações de uma rodada para 75 membros selecionados aleatoriamente em um campo de golfe, primeiro usando seus próprios tacos originais e, dois meses depois, usando novos tacos com um estilo (design) experimental. Queremos verificar a alegação de que esse novo estilo de taco ajuda no desempenho dos jogadores."
      ],
      "metadata": {
        "id": "q90Ia3kLpo7m"
      }
    },
    {
      "cell_type": "markdown",
      "source": [
        "### (i) Os procedimentos paramétricos de testes de hipóteses sobre duas amostras que estudamos em nosso curso presumem que as amostras a serem usadas são provenientes de uma distribuição aproximadamente normal. Para cada uma das amostras fornecidas, verifique essa hipótese usando dois dos testes de normalidades que estudamos no curso. Para isso, use um nível de significância igual a 5%."
      ],
      "metadata": {
        "id": "Ng9KfkWDp9HU"
      }
    },
    {
      "cell_type": "code",
      "source": [
        "df = pd.read_csv('golfe.csv', delimiter=';')"
      ],
      "metadata": {
        "id": "cAOebD8Q4S9o"
      },
      "execution_count": null,
      "outputs": []
    },
    {
      "cell_type": "code",
      "source": [
        "df = pd.read_csv('golfe.csv', delimiter=';')\n",
        "alpha = 0.05\n",
        "\n",
        "old_score = df['Old Score']\n",
        "new_score = df['New Score ']\n",
        "\n",
        "_, p_value_old = stats.shapiro(old_score)\n",
        "_, p_value_new = stats.shapiro(new_score)\n",
        "print(\"Shapiro-wilk:\")\n",
        "print(f\"new score p_value: {p_value_new:.5f}\")\n",
        "print(f\"old score p_value: {p_value_old:.5f}\")\n",
        "if p_value_old < alpha or p_value_new < alpha:\n",
        "    print(\"Rejeitamos a hipótese nula\")\n",
        "else:\n",
        "    print(\"Não rejeitamos a hipótese nula\")\n",
        "\n",
        "print(\"\\nD'Agostino:\")\n",
        "_, p_value_old = stats.normaltest(old_score)\n",
        "_, p_value_new = stats.normaltest(new_score)\n",
        "print(f\"new score p_value: {p_value_new:.5f}\")\n",
        "print(f\"old score p_value: {p_value_old:.5f}\")\n",
        "if p_value_old < alpha or p_value_new < alpha:\n",
        "    print(\"Rejeitamos a hipótese nula\")\n",
        "else:\n",
        "    print(\"Não rejeitamos a hipótese nula\")"
      ],
      "metadata": {
        "colab": {
          "base_uri": "https://localhost:8080/"
        },
        "id": "mFUjMOFbwgPr",
        "outputId": "b16e86fd-fff8-41ca-918c-eaa0f5330796"
      },
      "execution_count": null,
      "outputs": [
        {
          "output_type": "stream",
          "name": "stdout",
          "text": [
            "Shapiro-wilk:\n",
            "new score p_value: 0.00014\n",
            "old score p_value: 0.00002\n",
            "Rejeitamos a hipótese nula\n",
            "\n",
            "D'Agostino:\n",
            "new score p_value: 0.00055\n",
            "old score p_value: 0.00000\n",
            "Rejeitamos a hipótese nula\n"
          ]
        }
      ]
    },
    {
      "cell_type": "markdown",
      "source": [
        "Usando o teste de shapiro-wilk e D'Agostino implementado pela biblioteca scipy.stats o valor de p computado foi menor do que o nível de significância em ambos os casos dos dois testes. Portanto, rejeitamos a hipótese nula, pois isso indica que as observações não seguem uma distribuição normal."
      ],
      "metadata": {
        "id": "Jh9GbGvyIAna"
      }
    },
    {
      "cell_type": "markdown",
      "source": [
        "###  (ii) Agora, aplique o teste de hipóteses propriamente dito. Apresente e descreva claramente a aplicação dos quatro passos do procedimento. Repare que a variância da população não é conhecida. Sendo assim, certifique-se de usar o teste de hipóteses adequado para essa situação. Apresente sua análise para o nível de significância igual a 1%."
      ],
      "metadata": {
        "id": "mOoWHk-BvdUY"
      }
    },
    {
      "cell_type": "code",
      "source": [
        "diff = new_score - old_score\n",
        "alpha = 0.01\n",
        "mu = 0\n",
        "\n",
        "x_bar = np.mean(diff)\n",
        "s = np.std(diff, ddof=1)\n",
        "t_calc = (x_bar - mu) / (s / np.sqrt(n))\n",
        "\n",
        "p_valor = 2*stats.t.cdf(t_calc, df=n-1)\n",
        "\n",
        "print(f\"média amostral: {x_bar:.4f}\")\n",
        "print(f\"desvio padrão amostral: {s:.4f}\")\n",
        "print(f\"t calculado: {t_calc:.4f}\")\n",
        "print(f\"p valor: {p_valor:.4f}\\n\")\n",
        "\n",
        "if p_valor < 0.01:\n",
        "    print(\"Rejeitamos a hipótese nula\")\n",
        "else:\n",
        "    print(\"Não rejeitamos a hipótese nula\")"
      ],
      "metadata": {
        "colab": {
          "base_uri": "https://localhost:8080/"
        },
        "id": "1F0oAYqFM6eX",
        "outputId": "3a12518a-210a-491a-ada6-85b987e727b0"
      },
      "execution_count": null,
      "outputs": [
        {
          "output_type": "stream",
          "name": "stdout",
          "text": [
            "média amostral: -2.1333\n",
            "desvio padrão amostral: 2.6678\n",
            "t calculado: -3.5762\n",
            "p valor: 0.0020\n",
            "\n",
            "Rejeitamos a hipótese nula\n"
          ]
        }
      ]
    },
    {
      "cell_type": "markdown",
      "source": [
        "1- Primeiro definindo as hipóteses:\n",
        "\n",
        "Hipótese nula: Não há diferença na média dos pontos. μd = 0\n",
        "\n",
        "Hipótese alternativa: Há uma diferença na pontuação. μd ≠ 0\n",
        "\n",
        "2- Computando estatística de teste:\n",
        "\n",
        "Usamos novamente o test t, pelo desvio padrão não ser conhecido.\n",
        "$$\n",
        "t = \\frac{\\bar{x} - \\mu_0}{s / \\sqrt{n}}\n",
        "$$\n",
        "\n",
        "3- Calculamos o p valor associado\n",
        "\n",
        "Como queremos saber se há uma diferença nas médias, o teste é bilateral.\n",
        "\n",
        "4- Interpretando o resultado podemos inferir que há uma diferença entre as médias, p valor < alpha, logo rejeitamos H0"
      ],
      "metadata": {
        "id": "3LEa9wVSJIFD"
      }
    },
    {
      "cell_type": "markdown",
      "source": [
        "# 3 Transmissões: automática versus manual\n",
        "O conjunto de dados mtcars apresenta informações sobre modelos de carros. Esse conjunto de dados contém várias variáveis. Entretanto para essa parte do trabalho, duas delas são relevantes:\n",
        "- am- essa variável categórica indica o tipo de sistema de transmissão usado no modelo\n",
        " de automóvel (0 = automatic, 1 = manual). Com base nessa variável, podemos formar duas amostras independentes: veículos com transmissão automática e veículos com transmissão manual.\n",
        "- mpg (miles per gallon) — variável quantitativa contínua que mede o consumo de combustível, indicando quantas milhas o veículo percorre por galão de combustível. Valores maiores indicam maior eficiência energética.\n",
        "\n",
        "Utilizando essas informações, responda aos itens a seguir com base nos métodos estudados em aula."
      ],
      "metadata": {
        "id": "hkHrF98ER3M4"
      }
    },
    {
      "cell_type": "markdown",
      "source": [
        " ### (i) Realize uma análise gráfica exploratória comparando o consumo médio de combustível dos dois grupos de veículos. Utilize ao menos dois tipos de gráfico (como boxplots e histogramas sobrepostos) e comente os padrões observados."
      ],
      "metadata": {
        "id": "R3orIvg0SW2u"
      }
    },
    {
      "cell_type": "code",
      "source": [
        "df = pd.read_csv('mtcars.csv', delimiter=',')"
      ],
      "metadata": {
        "id": "iYk2Cc7lWy9G"
      },
      "execution_count": null,
      "outputs": []
    },
    {
      "cell_type": "markdown",
      "source": [
        "import dos dados"
      ],
      "metadata": {
        "id": "1j7W4K_hXhM_"
      }
    },
    {
      "cell_type": "code",
      "source": [
        "manual = df[df['am'] == 1]['mpg']\n",
        "auto = df[df['am'] == 0]['mpg']\n",
        "sns.set_theme(style=\"whitegrid\", palette=\"viridis\")\n",
        "\n",
        "fig, axes = plt.subplots(2, 2, figsize=(10,5))\n",
        "sns.boxplot(x=manual, ax=axes[0,0], color='darkorange', linewidth=1.3)\n",
        "sns.histplot(manual, ax=axes[0,1], color='darkorange', kde=True, bins=6, linewidth=1.3)\n",
        "fig.text(x=0.15, y=0.92, s='Transmissão Manual', ha='center', va='center',\n",
        "         fontsize=12, fontweight='bold', color='darkred')\n",
        "\n",
        "sns.boxplot(x=auto, ax=axes[1,0], color='skyblue', linewidth=1.3)\n",
        "sns.histplot(auto, ax=axes[1,1], color='skyblue', kde=True, bins=6, linewidth=1.3)\n",
        "fig.text(x=0.15, y=0.45, s='Transmissão Automática', ha='center', va='center',\n",
        "         fontsize=12, fontweight='bold', color='darkblue')\n",
        "\n",
        "fig.suptitle('Distribuição de MPG por Tipo de Transmissão', fontsize=16, fontweight='heavy', y=1.02)\n",
        "plt.tight_layout(h_pad=4.0)\n",
        "plt.show()"
      ],
      "metadata": {
        "colab": {
          "base_uri": "https://localhost:8080/",
          "height": 529
        },
        "id": "EPDSw0GPX1BV",
        "outputId": "68f58690-baad-478e-f674-35bfbed392e7"
      },
      "execution_count": null,
      "outputs": [
        {
          "output_type": "display_data",
          "data": {
            "text/plain": [
              "<Figure size 1000x500 with 4 Axes>"
            ],
            "image/png": "[encoded data removed]"
          },
          "metadata": {}
        }
      ]
    },
    {
      "cell_type": "markdown",
      "source": [
        "Usando seaborn para plotar um boxplot e um histograma para comparar o consumo de gasolina por tipo de carro percebemos claramente uma maior eficiência de combustível nos carros com transmissão manual que possuem no seu intervalo interquartil bem acima dos carros com transmissão automática. Além disso o histograma demonstra a distribuição em intervalos superiores. Portanto com a análise gráfica podemos inferir que os automóveis manuais possuem eficiência energética maior que automóveis automáticos."
      ],
      "metadata": {
        "id": "MOjcpWi5g2Ys"
      }
    },
    {
      "cell_type": "markdown",
      "source": [
        "###  (ii) Os procedimentos paramétricos de testes de hipóteses sobre duas amostras que estudamos em nosso curso presumem que as amostras a serem usadas são provenientes de uma distribuição aproximadamente normal. Para cada uma das amostras fornecidas, verifique essa hipótese usando dois dos testes de normalidades que estudamos no curso. Para isso, use um nível de significância igual a 5%."
      ],
      "metadata": {
        "id": "7vwOG0IaijH0"
      }
    },
    {
      "cell_type": "code",
      "source": [
        "alpha = 0.05\n",
        "\n",
        "print(\"Shapiro-wilk:\")\n",
        "_, p_value_manual = stats.shapiro(manual)\n",
        "_, p_value_auto = stats.shapiro(auto)\n",
        "print(f\"Auto p_value: {p_value_auto:.5f}\")\n",
        "print(f\"Manual p_value: {p_value_manual:.5f}\")\n",
        "\n",
        "if p_value_manual < alpha or p_value_auto < alpha:\n",
        "    print(\"Rejeitamos a hipótese nula\")\n",
        "else:\n",
        "    print(\"Não rejeitamos a hipótese nula\")\n",
        "\n",
        "print(\"\\nD'Agostino:\")\n",
        "_, p_value_manual = stats.normaltest(manual)\n",
        "_, p_value_auto = stats.normaltest(auto)\n",
        "print(f\"Auto p_value: {p_value_auto:.5f}\")\n",
        "print(f\"Manual p_value: {p_value_manual:.5f}\")\n",
        "\n",
        "if p_value_manual < alpha or p_value_auto < alpha:\n",
        "    print(\"Rejeitamos a hipótese nula\")\n",
        "else:\n",
        "    print(\"Não rejeitamos a hipótese nula\")"
      ],
      "metadata": {
        "colab": {
          "base_uri": "https://localhost:8080/"
        },
        "id": "glX9jqHTi2vQ",
        "outputId": "8e2e5326-9182-4418-fdca-88809c5e614d"
      },
      "execution_count": null,
      "outputs": [
        {
          "output_type": "stream",
          "name": "stdout",
          "text": [
            "Shapiro-wilk:\n",
            "Auto p_value: 0.89874\n",
            "Manual p_value: 0.53627\n",
            "Não rejeitamos a hipótese nula\n",
            "\n",
            "D'Agostino:\n",
            "Auto p_value: 0.98702\n",
            "Manual p_value: 0.51051\n",
            "Não rejeitamos a hipótese nula\n"
          ]
        }
      ]
    },
    {
      "cell_type": "markdown",
      "source": [
        "Ao aplicar os testes de shapiro-wilk e D'Agostino implementados pela biblioteca scipy nas duas amostras, o resultado foi p > alpha. Assim, não descartamos h0, as amostras aparentemente seguem uma distribuição normal."
      ],
      "metadata": {
        "id": "INSnp8JPkMto"
      }
    },
    {
      "cell_type": "markdown",
      "source": [
        "###  (iii) Presumindo que os dados da coluna mpg seguem a distribuição normal, determine um intervalo de confiança no nível 95% da diferença entre as médias dos modelos de carros que possuem transmissão automática e os que possuem transmissão manual."
      ],
      "metadata": {
        "id": "R42BCUekk1Tp"
      }
    },
    {
      "cell_type": "code",
      "source": [
        "manual_mean = np.mean(manual)\n",
        "auto_mean = np.mean(auto)\n",
        "diff_mean = manual_mean - auto_mean\n",
        "\n",
        "manual_std = np.std(manual, ddof=1)\n",
        "auto_std = np.std(auto, ddof=1)\n",
        "alpha = 1 - 0.95\n",
        "\n",
        "n_manual = len(manual)\n",
        "n_auto = len(auto)\n",
        "\n",
        "std_error = np.sqrt((manual_std**2 / n_manual) + (auto_std**2 / n_auto))\n",
        "\n",
        "# Cálculo do df de Welch:\n",
        "df_welch = ((manual_std**2 / n_manual + auto_std**2 / n_auto)**2) / (\n",
        "    (manual_std**2 / n_manual)**2 / (n_manual - 1) +\n",
        "    (auto_std**2 / n_auto)**2 / (n_auto - 1)\n",
        ")\n",
        "\n",
        "t_critical = stats.t.ppf(1 - alpha/2, df=df_welch)\n",
        "\n",
        "lower_bound = diff_mean - t_critical * std_error\n",
        "upper_bound = diff_mean + t_critical * std_error\n",
        "\n",
        "print(f\"Intervalo de confiança 95%: ({lower_bound:.5f}, {upper_bound:.5f})\")"
      ],
      "metadata": {
        "colab": {
          "base_uri": "https://localhost:8080/"
        },
        "id": "SKk2E35v30Aw",
        "outputId": "bae68dbc-4295-4e8c-f0d7-f22293e27b06"
      },
      "execution_count": null,
      "outputs": [
        {
          "output_type": "stream",
          "name": "stdout",
          "text": [
            "Intervalo de confiança 95%: (3.20968, 11.28019)\n"
          ]
        }
      ]
    },
    {
      "cell_type": "markdown",
      "source": [
        "Primeiro é calculado as médias e a diferença das médias, além do desvio padrão das distribuições. Então é calculado o erro padrão com a fórmula abaixo para médias independentes:\n",
        "\n",
        "$$SE_{\\bar{X}_1 - \\bar{X}_2} = \\sqrt{\\frac{s_1^2}{n_1} + \\frac{s_2^2}{n_2}}\n",
        "$$\n",
        "\n",
        "Assim é usado teste de Welch para amostras independentes que podem ter variâncias distintas usando a fórmula abaixo para calculo dos graus de liberdade:\n",
        "\n",
        "$$\n",
        "dfWelch = \\frac{\\left(\\frac{(s_1)^2}{n_1} + \\frac{(s_2)^2}{n_2}\\right)^2}{\\frac{(s_1^2/n_1)^2}{n_1-1} + \\frac{(s_2^2/n_2)^2}{n_2-1}}\n",
        "$$\n",
        "\n",
        "Podendo assim calcular o valor de t e definir o intervalo de 95% de confiança."
      ],
      "metadata": {
        "id": "HLtG6fbJFjBR"
      }
    },
    {
      "cell_type": "markdown",
      "source": [
        "### (iv) Suponha que, ao analisar os dados fornecidos, alguém levantou a alegação de que carros automáticos e manuais não apresentam a mesma eficiência relativa a consumo de combustível. Em particular, existe a suspeita de que carros com transmissão manual consumem (em média) menos combustível que suas contra-partidas com transmissão automática. Aplique um teste de hipóteses para verificar essa suspeita. Apresente e descreva claramente a aplicação dos quatro passos do procedimento. Repare que são fornecidas duas amostras independentes. Sendo assim, certifique-se de usar o teste de hipóteses adequado para essa situação. Apresente sua análise para o nível de significância igual a 5%."
      ],
      "metadata": {
        "id": "XK4bPYmWlE5C"
      }
    },
    {
      "cell_type": "code",
      "source": [
        "alpha = 0.05\n",
        "t = diff_mean / std_error\n",
        "p_value = 1 - stats.t.cdf(t, df=df_welch)\n",
        "print(p_value)\n",
        "\n",
        "if p_value < alpha:\n",
        "    print(\"Rejeitamos a hipótese nula\")\n",
        "else:\n",
        "    print(\"Não rejeitamos a hipótese nula\")"
      ],
      "metadata": {
        "colab": {
          "base_uri": "https://localhost:8080/"
        },
        "id": "4X6h8fl4Iq3U",
        "outputId": "02891e6e-c8d0-4281-ff4f-612eb2f5bd3d"
      },
      "execution_count": null,
      "outputs": [
        {
          "output_type": "stream",
          "name": "stdout",
          "text": [
            "0.0006868191665354573\n",
            "Rejeitamos a hipótese nula\n"
          ]
        }
      ]
    },
    {
      "cell_type": "markdown",
      "source": [
        "1 - Primeiro definindo as hipóteses:\n",
        "*   Hipótese nula(h0): não há diferença no consumo de carros automáticos e manuais.\n",
        "*   Hipótese alternativa(h1): Os de carros com transmissão manual tem maiot eficiência energética.\n",
        "\n",
        "2 - Calculando estatística de teste:\n",
        "\n",
        "t é calculado pelas variáveis computadas anteriormente (diferença das médias e erro padrão), conforme a fórmula a seguir:\n",
        "$$\n",
        "t = \\frac{\\bar{x}_1 - \\bar{x}_2}{\\sqrt{ \\frac{s_1^2}{n_1} + \\frac{s_2^2}{n_2} }}\n",
        "$$\n",
        "3 - Calculamos o valor p\n",
        "\n",
        "Usamos o teste unilateral a direita, já que queremos saber se a média dos carros manuais é maior.\n",
        "$\\mu_{manual} > \\mu_{auto}$\n",
        "\n",
        "4 - interpretação do valor\n",
        "\n",
        "Com o nível de significância 5% o p valor é menor, assim descartamos a hipótese nula e aceitamos a alternativa. Em média os carros manuais são mais eficiêntes no consumo."
      ],
      "metadata": {
        "id": "PtZDp70JgvdO"
      }
    },
    {
      "cell_type": "markdown",
      "source": [
        "# 4 Teste ANOVA\n",
        "## 4.1 Situação-problema I\n",
        " Nesta parte, você deve estudar as condições que permitem usar o método de análise de variância\n",
        " (ANOVA) para determinar se um grupo de populações tem uma média comum. Os dados\n",
        " apresentados nas figuras 1, 2 e 3 correspondem às estimativas de milhas percorridas por galão\n",
        " obtidas para amostras de modelos de carros de 1993, conforme relatado pelo Consumer Reports:\n",
        " The 1993 Cars- Annual Auto Issue (abril de 1993)."
      ],
      "metadata": {
        "id": "dkQSAonjlcXd"
      }
    },
    {
      "cell_type": "markdown",
      "source": [
        " ### (i) Se uma ou mais das amostras não passam no teste de normalidade, então não podemos usar o método ANOVA. Sendo assim, antes de poder usar esse teste, você deve verificar as condições de aplicabilidade dele. Primeiro verifique, se as amostras são aproximadamente normalmente distribuídas. Em seguida, usando o teste de Levene, verifique se as amostras possuem variâncias iguais do ponto de vista estatístico."
      ],
      "metadata": {
        "id": "YPrTsAkll-9u"
      }
    },
    {
      "cell_type": "code",
      "source": [
        "compactos = np.array ([20, 25, 25, 20, 22, 22, 24, 26, 20, 24, 24, 23, 20,\n",
        " 23, 21, 21])\n",
        "medios = np.array ([18, 19, 22, 22, 19, 16, 21, 21, 21, 20,17, 18, 18, 17,\n",
        " 19, 19, 18, 21, 23, 19, 22, 20])\n",
        "grandes = np.array ([19, 16, 16, 17, 20, 20, 20, 18, 18, 19, 19, 15, 18,\n",
        " 17, 15, 18, 17, 18, 18, 17])\n",
        "\n",
        "def test_normality(data, alpha):\n",
        "    print(\"Shapiro-wilk:\")\n",
        "    _, p_value = stats.shapiro(data)\n",
        "    if p_value < alpha:\n",
        "        print(\"Rejeitamos a hipótese nula→ A distribuição não é normal\")\n",
        "    else:\n",
        "        print(\"Não rejeitamos a hipótese nula → A distribuição se aproxima da normal\")\n",
        "\n",
        "    print(\"D'Agostino:\")\n",
        "    _, p_value = stats.normaltest(data)\n",
        "    if p_value < alpha:\n",
        "        print(\"Rejeitamos a hipótese nula → A distribuição não é normal\\n\")\n",
        "    else:\n",
        "        print(\"Não rejeitamos a hipótese nula → A distribuição se aproxima da normal\\n\")\n",
        "\n",
        "alpha = 0.05\n",
        "print(\"Carros compactos\")\n",
        "test_normality(compactos, alpha)\n",
        "print(\"Carros médios\")\n",
        "test_normality(medios, alpha)\n",
        "print(\"Carros grandes\")\n",
        "test_normality(grandes, alpha)\n",
        "\n",
        "_, p_value = stats.levene(compactos, medios, grandes)\n",
        "if p_value < alpha:\n",
        "    print(\"Rejeitamos H0 → as variâncias não são iguais.\")\n",
        "else:\n",
        "    print(\"Não rejeitamos H0 → as variâncias são iguais.\")"
      ],
      "metadata": {
        "colab": {
          "base_uri": "https://localhost:8080/"
        },
        "id": "MC7SJXa7mw7i",
        "outputId": "3efb9973-3d02-424f-fd7f-bdafe3ed9dfb"
      },
      "execution_count": null,
      "outputs": [
        {
          "output_type": "stream",
          "name": "stdout",
          "text": [
            "Carros compactos\n",
            "Shapiro-wilk:\n",
            "Não rejeitamos a hipótese nula → A distribuição se aproxima da normal\n",
            "D'Agostino:\n",
            "Não rejeitamos a hipótese nula → A distribuição se aproxima da normal\n",
            "\n",
            "Carros médios\n",
            "Shapiro-wilk:\n",
            "Não rejeitamos a hipótese nula → A distribuição se aproxima da normal\n",
            "D'Agostino:\n",
            "Não rejeitamos a hipótese nula → A distribuição se aproxima da normal\n",
            "\n",
            "Carros grandes\n",
            "Shapiro-wilk:\n",
            "Não rejeitamos a hipótese nula → A distribuição se aproxima da normal\n",
            "D'Agostino:\n",
            "Não rejeitamos a hipótese nula → A distribuição se aproxima da normal\n",
            "\n",
            "Não rejeitamos H0 → as variâncias são iguais.\n"
          ]
        }
      ]
    },
    {
      "cell_type": "markdown",
      "source": [
        "Criamos uma função a qual recebe os dados e o nível de significância, assim para cada grupo a função é chamada, realizando os testes de Shapiro-wilk e D'Agostino. Como resultado todas as amostras se apresentam como normais. Por fim, usando teste de Levene implementado pela biblioteca scipy, percebemos que a variância das amostras pode ser consideradas iguais."
      ],
      "metadata": {
        "id": "CsWEIQrTr1M1"
      }
    },
    {
      "cell_type": "markdown",
      "source": [
        "### (ii) Agora que você verificou as condições aplicabilidade do ANOVA, aplique esse teste para verificar a hipótese nula de que as três populações têm médias estatisticamente iguais.Declare as hipóteses nula e alternativa. A seguir, descreva sua conclusão. Use nível de significância de 5%."
      ],
      "metadata": {
        "id": "ADDHOFiMtUBV"
      }
    },
    {
      "cell_type": "code",
      "source": [
        "f_stat, p_value = stats.f_oneway(compactos, medios, grandes)\n",
        "print(f\"F-statistic: {f_stat:.5f}\")\n",
        "print(f\"p-value: {p_value:.5f}\")\n",
        "\n",
        "if p_value < alpha:\n",
        "    print(\"Rejeitamos a hipótese nula\")\n",
        "else:\n",
        "    print(\"Não rejeitamos a hipótese nula\")"
      ],
      "metadata": {
        "colab": {
          "base_uri": "https://localhost:8080/"
        },
        "id": "1ISSLp2-3RmZ",
        "outputId": "84d0d12e-9697-4d29-f20a-315c8a015bf6"
      },
      "execution_count": null,
      "outputs": [
        {
          "output_type": "stream",
          "name": "stdout",
          "text": [
            "F-statistic: 30.64324\n",
            "p-value: 0.00000\n",
            "Rejeitamos a hipótese nula\n"
          ]
        }
      ]
    },
    {
      "cell_type": "markdown",
      "source": [
        "Calculamos o valor p com a função f_oneway da biblioteca scipy.stats. Como p é bem menor que alpha, há evidências fortes para se descartar a hipótese nula de que as 3 amostras tem médias iguais. Portanto aceitamos a hipótese alternativa. O tamanho do carro influencia no consumo de combustível."
      ],
      "metadata": {
        "id": "8FwHkxUC3ifd"
      }
    },
    {
      "cell_type": "markdown",
      "source": [
        " ## 4.2 Situação-problema II\n",
        "Em http://www.flatworldknowledge.com/sites/all/files/data9.xls, você encontra da dos que registram os custos dos materiais (livro didático, manual de solução, taxas de laboratório e assim por diante) em cada um dos dez cursos diferentes em cada um dos três assuntos diferentes, química, ciência da computação e matemática. Verifique, ao nível de significância de 1%, se os dados fornecem evidências suficientes para concluir que os custos médios nas três\n",
        " disciplinas não são todos iguais. Apresente os detalhes de aplicação todos os quatro passos do\n",
        " teste de hipóteses."
      ],
      "metadata": {
        "id": "2JqQj7_QDphK"
      }
    },
    {
      "cell_type": "code",
      "source": [
        "df = pd.read_excel('http://www.flatworldknowledge.com/sites/all/files/data9.xls')\n",
        "\n",
        "alpha = 0.01\n",
        "math_costs = df[df[\"Cource\"].str.startswith(\"MATH\")][\"Cost\"]\n",
        "comp_costs = df[df[\"Cource\"].str.startswith(\"COMP\")][\"Cost\"]\n",
        "chem_costs = df[df[\"Cource\"].str.startswith(\"CHEM\")][\"Cost\"]\n",
        "\n",
        "print(\"Math\")\n",
        "test_normality(math_costs, alpha)\n",
        "print(\"Comp\")\n",
        "test_normality(comp_costs, alpha)\n",
        "print(\"Chem\")\n",
        "test_normality(chem_costs, alpha)\n",
        "\n",
        "_, p_value = stats.levene(math_costs, comp_costs, chem_costs)\n",
        "if p_value < alpha:\n",
        "    print(\"Rejeitamos H0 → as variâncias não são iguais.\")\n",
        "else:\n",
        "    print(\"Não rejeitamos H0 → as variâncias são iguais.\")"
      ],
      "metadata": {
        "colab": {
          "base_uri": "https://localhost:8080/"
        },
        "id": "FxkWyd4DEb5H",
        "outputId": "bc0d25fe-9f3f-41df-f707-802065aeb3d8"
      },
      "execution_count": null,
      "outputs": [
        {
          "output_type": "stream",
          "name": "stdout",
          "text": [
            "Math\n",
            "Shapiro-wilk:\n",
            "Não rejeitamos a hipótese nula → A distribuição se aproxima da normal\n",
            "D'Agostino:\n",
            "Não rejeitamos a hipótese nula → A distribuição se aproxima da normal\n",
            "\n",
            "Comp\n",
            "Shapiro-wilk:\n",
            "Não rejeitamos a hipótese nula → A distribuição se aproxima da normal\n",
            "D'Agostino:\n",
            "Não rejeitamos a hipótese nula → A distribuição se aproxima da normal\n",
            "\n",
            "Chem\n",
            "Shapiro-wilk:\n",
            "Não rejeitamos a hipótese nula → A distribuição se aproxima da normal\n",
            "D'Agostino:\n",
            "Não rejeitamos a hipótese nula → A distribuição se aproxima da normal\n",
            "\n",
            "Não rejeitamos H0 → as variâncias são iguais.\n"
          ]
        }
      ]
    },
    {
      "cell_type": "markdown",
      "source": [
        "Primeiramente é necessário saber se ANOVA pode ser aplicado, para isso são aplicados os testes de Shapiro-wilk e D'Agostino com a função implementada anteriormente para constatar a normalidade das distribuições. Além disso é usado Levene para descobrir se as variâncias são iguais. Como os testes foram bem sucedidos ANOVA pode ser aplicado."
      ],
      "metadata": {
        "id": "VkyAbl2fLLgP"
      }
    },
    {
      "cell_type": "code",
      "source": [
        "alpha = 0.01\n",
        "f_stat, p_value = stats.f_oneway(math_costs, comp_costs, chem_costs)\n",
        "print(f\"F-statistic: {f_stat:.5f}\")\n",
        "print(f\"p-value: {p_value:.5f}\")\n",
        "\n",
        "if p_value < alpha:\n",
        "    print(\"Rejeitamos a hipótese nula\")\n",
        "else:\n",
        "    print(\"Não rejeitamos a hipótese nula\")"
      ],
      "metadata": {
        "colab": {
          "base_uri": "https://localhost:8080/"
        },
        "id": "PP60OeNiK9Wq",
        "outputId": "6791571b-ef69-4625-9230-fdfa6880d504"
      },
      "execution_count": null,
      "outputs": [
        {
          "output_type": "stream",
          "name": "stdout",
          "text": [
            "F-statistic: 1.41805\n",
            "p-value: 0.25965\n",
            "Não rejeitamos a hipótese nula\n"
          ]
        }
      ]
    },
    {
      "cell_type": "markdown",
      "source": [
        "1 - Definindo as hipóteses:\n",
        "\n",
        "\n",
        "*   Hipótese nula(h0): As médias das amostras é igual. $\\mu_{math} = \\mu_{comp} = \\mu_{chem}$\n",
        "*   Hipótese alternativa(h1): Há uma diferença significativa na média dos custos de ao menos uma disciplina.\n",
        "\n",
        "2 - Então, calculamos a estatística de teste pela função f_oneway da biblioteca scipy.stats\n",
        "\n",
        "3 - Além disso, essa função, f_oneway que recebe as 3 amostras,também retorna o valor p correspondente.\n",
        "\n",
        "4 - Com os dados computados interpretamos o resultado. Como p > alpha não descartamos h0. Ou seja, podemos inferir que a média dos custos das 3 disciplinas é igual.\n"
      ],
      "metadata": {
        "id": "v84HrGwIL9_s"
      }
    },
    {
      "cell_type": "markdown",
      "source": [
        "#  5 Testes Qui-quadrado\n",
        "## 5.1 Distribuição χ2\n",
        "Suponha que uma variável aleatória Y siga a distribuição χ2 com k graus de liberdade, isto é, Y ∼ χ2 (k). Por meio das funções apropriadas de R1 ou de Python2, compute o que se pede a seguir. Considere que k = 13."
      ],
      "metadata": {
        "id": "9l8ZXTLEN5WW"
      }
    },
    {
      "cell_type": "markdown",
      "source": [
        " ### (i) Pr(Y > 2,56)"
      ],
      "metadata": {
        "id": "CbJCwU_0dq5h"
      }
    },
    {
      "cell_type": "code",
      "source": [
        "k = 13\n",
        "x = 2.56\n",
        "\n",
        "p_valor = 1 - stats.chi2.cdf(x, df=k)\n",
        "print(f\"P(Y > 2.56) = {p_valor:.5f}\")"
      ],
      "metadata": {
        "colab": {
          "base_uri": "https://localhost:8080/"
        },
        "id": "BaAM30TosMOs",
        "outputId": "5df6bf66-2d02-4bea-9e29-cd186dd96920"
      },
      "execution_count": null,
      "outputs": [
        {
          "output_type": "stream",
          "name": "stdout",
          "text": [
            "P(Y > 2.56) = 0.99911\n"
          ]
        }
      ]
    },
    {
      "cell_type": "markdown",
      "source": [
        "Usamos a função chi2.cdf da biblioteca scipy para calcular a probabilidade acumulada até o ponto com os graus de liberdade especificados e então subtraímos do total para pegar o complemento, a área a esquerda."
      ],
      "metadata": {
        "id": "1lqX4ZTxzNqe"
      }
    },
    {
      "cell_type": "markdown",
      "source": [
        "###  (ii) Pr(2,56 < Y < 4,87)"
      ],
      "metadata": {
        "id": "7X7RQXXYdufA"
      }
    },
    {
      "cell_type": "code",
      "source": [
        "k = 13\n",
        "p = stats.chi2.cdf(4.87, df=k) - stats.chi2.cdf(2.56, df=k)\n",
        "print(f\"P(2.56 < Y < 4.87) = {p:.5f}\")"
      ],
      "metadata": {
        "colab": {
          "base_uri": "https://localhost:8080/"
        },
        "id": "AVzccvHCs8A8",
        "outputId": "7459af6b-97e9-48c6-dd39-33fb2b6241e0"
      },
      "execution_count": null,
      "outputs": [
        {
          "output_type": "stream",
          "name": "stdout",
          "text": [
            "P(2.56 < Y < 4.87) = 0.02117\n"
          ]
        }
      ]
    },
    {
      "cell_type": "markdown",
      "source": [
        "Novamente usando a função chi2.cdf calculamos a área na interseção dos dois pontos."
      ],
      "metadata": {
        "id": "70oA7w1tz8i-"
      }
    },
    {
      "cell_type": "markdown",
      "source": [
        "### (iii) O valor de y tal que Pr(Y < y) = 0,95"
      ],
      "metadata": {
        "id": "t65K6drAdvqu"
      }
    },
    {
      "cell_type": "code",
      "source": [
        "k = 13\n",
        "p = 0.95\n",
        "\n",
        "y = stats.chi2.ppf(p, df=k)\n",
        "print(f\"y = {y:.5f}\")"
      ],
      "metadata": {
        "colab": {
          "base_uri": "https://localhost:8080/"
        },
        "id": "gO27C3X5uFP_",
        "outputId": "d8f33366-34cf-4deb-cc2a-8ee789781fa5"
      },
      "execution_count": null,
      "outputs": [
        {
          "output_type": "stream",
          "name": "stdout",
          "text": [
            "y = 22.36203\n"
          ]
        }
      ]
    },
    {
      "cell_type": "markdown",
      "source": [
        "Também usando a função chi2.cdf é possível calcular a área até o ponto especificado com os graus de liberdade fornecidos."
      ],
      "metadata": {
        "id": "wYUHYJ-q0SVA"
      }
    },
    {
      "cell_type": "markdown",
      "source": [
        "##  5.2 Teste χ2 (situação-problema I)\n",
        " Considere novamente o conjunto de dados denominado mtcars. Para este conjunto de dados, descubra se as variáveis cyl e carb são ou não dependentes. Para isso, utilize o teste χ2. Apresente o desenvolvimento, isto é, os comandos em R ou Python que você utilizou para chegar à conclusão."
      ],
      "metadata": {
        "id": "KXsESSlw0ehH"
      }
    },
    {
      "cell_type": "code",
      "source": [
        "df = pd.read_csv('mtcars.csv', delimiter=',')\n",
        "contingency_table = pd.crosstab(df['cyl'], df['carb'])\n",
        "chi2_stat, p_value, dof, expected = stats.chi2_contingency(contingency_table)\n",
        "\n",
        "if p_value < 0.05:\n",
        "    print(\"Rejeitamos a hipótese nula\")\n",
        "else:\n",
        "    print(\"Não rejeitamos a hipótese nula\")"
      ],
      "metadata": {
        "colab": {
          "base_uri": "https://localhost:8080/"
        },
        "id": "puBn-X591OtO",
        "outputId": "b4d74788-18a3-49b3-e007-796ee7771473"
      },
      "execution_count": null,
      "outputs": [
        {
          "output_type": "stream",
          "name": "stdout",
          "text": [
            "Rejeitamos a hipótese nula\n"
          ]
        }
      ]
    },
    {
      "cell_type": "markdown",
      "source": [
        "Primeiro declarando as hipóteses:\n",
        "- Hipótese nula(H0): As variáveis são independentes.\n",
        "- Hipótese alternativa(Ha): As variáveis são associadas.\n",
        "\n",
        "Assim, importando o dataset com pandas usamos a função crosstab para formar a tabela de contingência das variáveis 'cyl' e 'carb'.\n",
        "Depois disso usamos a função chi2_contingency para calcular o valor p que no caso é menor que o nível de significância escolhido de 5%( p< alpha ). Portanto, rejeitamos a hipótese nula, as variáveis estão correlacionadas."
      ],
      "metadata": {
        "id": "jilO1f1_2tI6"
      }
    },
    {
      "cell_type": "markdown",
      "source": [
        "## 5.3 Teste χ2 (situação-problema II)\n",
        "A fabricante das balinhas Zuzuba produz balinhas de diferentes cores. Esse fabricante alega que cada pacote produzido contém quantidades de balinhas de cada cor que não diferem significativamente das que são apresentadas na segunda coluna da tabela Tabela 1. Para testar essa alegação, um auditor comprou um pacote de Zuzubas em uma loja perto de sua casa e contou as quantidades de cada cor. Os dados levantados pelo auditor estão na terceira coluna da Tabela 1. Se o fabricante estiver correto, então não deve haver diferença significativa entre as quantidades de diversas cores de Zuzubas que ela alega depositar em cada pacote e as quantidades que o auditor encontrou."
      ],
      "metadata": {
        "id": "tmjOmKj79Z8H"
      }
    },
    {
      "cell_type": "markdown",
      "source": [
        "### (i) Utilizando o R3 ou Python4, apresente dois gráficos de setores (pie charts), um para as quantidades esperadas e outro para as quantidades observadas de cores.\n"
      ],
      "metadata": {
        "id": "oqOeUoXpASxZ"
      }
    },
    {
      "cell_type": "code",
      "source": [
        "df = pd.DataFrame({\n",
        "    'cor': ['vermelho', 'verde', 'roxo', 'azul', 'laranja', 'amarelo'],\n",
        "    'esperado': [18, 19, 16, 6, 24, 17],\n",
        "    'observado': [24, 16, 13, 20, 20, 14]\n",
        "})\n",
        "\n",
        "fig, axes = plt.subplots(1, 2, figsize=(10, 5))\n",
        "\n",
        "axes[0].pie(df['esperado'], labels=df['cor'], autopct='%1.1f%%', startangle=90, colors=['red', 'green', 'purple', 'blue', 'orange', 'yellow'])\n",
        "axes[0].set_title('Quantidades Esperadas')\n",
        "\n",
        "axes[1].pie(df['observado'], labels=df['cor'], autopct='%1.1f%%', startangle=90, colors=['red', 'green', 'purple', 'blue', 'orange', 'yellow'])\n",
        "axes[1].set_title('Quantidades Observadas')\n",
        "plt.tight_layout()\n",
        "plt.show()"
      ],
      "metadata": {
        "colab": {
          "base_uri": "https://localhost:8080/",
          "height": 499
        },
        "id": "Ahoq2agVAwei",
        "outputId": "49160ebd-eca2-4637-bbe5-856300af62e5"
      },
      "execution_count": null,
      "outputs": [
        {
          "output_type": "display_data",
          "data": {
            "text/plain": [
              "<Figure size 1000x500 with 2 Axes>"
            ],
            "image/png": "[encoded data removed]"
          },
          "metadata": {}
        }
      ]
    },
    {
      "cell_type": "markdown",
      "source": [
        "Criamos um dataset correspondente com a tabela passada usando pandas então com matplotlib plotamos 2 pie charts baseados nas quantidades observadas e esperadas."
      ],
      "metadata": {
        "id": "43ikqe1jEaaL"
      }
    },
    {
      "cell_type": "markdown",
      "source": [
        " ### (ii) Também utilizando R ou Python, teste a hipótese nula de que a alegação do fabricante é verdadeira, usando nível de significância α = 0,05. Apresente os seguintes valores: graus de liberdade, valor da estatística e o valor-p. Apresente também a sua conclusão, contra ou a favor da hipótese nula, justificando sua resposta."
      ],
      "metadata": {
        "id": "irzM5IH-Ameq"
      }
    },
    {
      "cell_type": "code",
      "source": [
        "obs = df['observado']\n",
        "expec = df['esperado']\n",
        "expec_perc = df['esperado'] * (df['observado'].sum() / df['esperado'].sum())\n",
        "\n",
        "chi2_stat, p_value = stats.chisquare(f_obs=obs, f_exp=expec_perc)\n",
        "k = len(df) - 1\n",
        "\n",
        "print(f\"Chi-square statistic: {chi2_stat:.5f}\")\n",
        "print(f\"p-value: {p_value:.5f}\")\n",
        "print(f\"Graus de liberdade: {k}\")\n",
        "\n",
        "if p_value < 0.05:\n",
        "    print(\"Rejeitamos a hipótese nula\")\n",
        "else:\n",
        "    print(\"Não rejeitamos a hipótese nula\")"
      ],
      "metadata": {
        "colab": {
          "base_uri": "https://localhost:8080/"
        },
        "id": "FEUXryTkE2iM",
        "outputId": "ed5237a5-981b-4130-ec6f-a45bab458d31"
      },
      "execution_count": null,
      "outputs": [
        {
          "output_type": "stream",
          "name": "stdout",
          "text": [
            "Chi-square statistic: 34.02704\n",
            "p-value: 0.00000\n",
            "Graus de liberdade: 5\n",
            "Rejeitamos a hipótese nula\n"
          ]
        }
      ]
    },
    {
      "cell_type": "markdown",
      "source": [
        "Hipóteses:\n",
        "- $H_0$: A distribuição de cores observada não difere da alegada.\n",
        "- $H_a$: A distribuição de cores observada difere da alegada.\n",
        "\n",
        "Nível de Significância: $\\alpha = 0,05$.\n",
        "\n",
        "Primeiro ajeitamos a quantidade de zuzubas esperadas para porcentagem para terem o mesmo número de observações que as observadas. Desse jeito podemos usar a função chisquare da biblioteca scipy que retorna a estatísca χ2 e o valor p. Bastando calcular no final os graus de liberdade que é k - 1.\n",
        "\n",
        "Por fim, interpretando o resultado, $p < \\alpha$, logo descartamos a hipótese nula. A distribuição de cores das balas é diferente da que o fabricante alega."
      ],
      "metadata": {
        "id": "SL1VYVCASmRf"
      }
    },
    {
      "cell_type": "markdown",
      "source": [
        "##  5.4 Teste χ2 (situação-problema III)\n",
        " Considere um caso hipotético em que se deseja testar a eficácia de um medicamento para um\n",
        " determinado problema médico. Suponha que temos 105 pacientes em estudo e 50 deles foram\n",
        " tratados com a droga. Os restantes 55 pacientes foram mantidos como amostras de controle.\n",
        " O estado de saúde de todos os pacientes foi verificado após uma semana. Os dados e resultados\n",
        " para todos esse indivíduos podem ser encontrados no arquivo treatment.csv5.\n",
        " A tabela de contingência para o conjunto de dados fornecido pode ser produzida por meio\n",
        " dos comandos na Listagem 2 e na Listagem 3.\n",
        "\n",
        "  Nesta situação problema, temos duas variáveis discretas, uma que indica se o paciente foi\n",
        " tratado com o medicamento (treated ou not-treated), e outra que indica se o paciente melhorou\n",
        " ou não (improved ou not-improved) Utilizando R ou Python, verifique a alegação de que as\n",
        " duas variáveis são dependentes, usando nível de significância α = 0,05."
      ],
      "metadata": {
        "id": "XfgY32qmVB3V"
      }
    },
    {
      "cell_type": "code",
      "source": [
        "data = pd.read_csv('https://raw.githubusercontent.com/selva86/datasets/master/treatment.csv')\n",
        "data_crosstab = pd.crosstab(data['treatment'], data['improvement'], margins = False)\n",
        "print(data_crosstab)\n",
        "\n",
        "alpha = 0.05\n",
        "chi2_stat, p_val, dof, expected = stats.chi2_contingency(data_crosstab)\n",
        "print(f\"\\nChi-square statistic: {chi2_stat:.5f}\")\n",
        "print(f\"p-value: {p_val:.5f}\")\n",
        "\n",
        "if p_val < alpha:\n",
        "  print(\"Rejeitamos a hipótese nula\")\n",
        "else:\n",
        "  print(\"Não rejeitamos a hipótese nula\")"
      ],
      "metadata": {
        "colab": {
          "base_uri": "https://localhost:8080/"
        },
        "id": "JLY9kDlZYhck",
        "outputId": "65b3ca92-557f-4cfe-af98-bce329e65fda"
      },
      "execution_count": null,
      "outputs": [
        {
          "output_type": "stream",
          "name": "stdout",
          "text": [
            "improvement  improved  not-improved\n",
            "treatment                          \n",
            "not-treated        26            29\n",
            "treated            35            15\n",
            "\n",
            "Chi-square statistic: 4.66257\n",
            "p-value: 0.03083\n",
            "Rejeitamos a hipótese nula\n"
          ]
        }
      ]
    },
    {
      "cell_type": "markdown",
      "source": [
        "Hipóteses:\n",
        "- $H_0$: Não há diferença entre os pacientes que usaram ou não o remédio.\n",
        "- $H_a$: Pacientes que receberam o remédio tiveram uma melhora em relação aos que não receberam.\n",
        "\n",
        "Nível de Significância: $\\alpha = 0,05$.\n",
        "\n",
        "Abrimos o csv como especificado na Listagem criamos a tabela de contingência.\n",
        "\n",
        "Após isso usando a função chi2_contingency da biblioteca scipy.stats,  ao receber a tabela de continngência como parâmetro, ela retorna a estatística  e o valor p.\n",
        "\n",
        "Interpretando o valor p, vemos que ele é menor que o nível de significância. $p < \\alpha$. Logo rejeitamos a hipótese nula e aceitamos a alternativa. Há uma dependência entre as variáveis."
      ],
      "metadata": {
        "id": "aCaLPQKPbB41"
      }
    },
    {
      "cell_type": "markdown",
      "source": [
        " ## 5.5 Teste χ2 (situação-problema IV)\n",
        " Em http://www.flatworldknowledge.com/sites/all/files/data4.xls, está disponível um conjunto de dados que registra o resultado de 500 arremessos de um dado de seis lados. Verifique, ao nível de significância de 10%, se há evidência suficiente para concluir que o dado não é “justo” (ou “balanceado”) ou seja, que a distribuição de probabilidade difere da probabilidade 1/6 para cada das seis faces do dado. Forneça a descrição detalhada dos quatro passos de aplicação do teste."
      ],
      "metadata": {
        "id": "xVcsArYtc1ye"
      }
    },
    {
      "cell_type": "code",
      "source": [
        "df = pd.read_excel('http://www.flatworldknowledge.com/sites/all/files/data4.xls')\n",
        "\n",
        "alpha = 0.1\n",
        "obs = df['Die Result'].value_counts().sort_index()\n",
        "n = obs.sum()\n",
        "expec = [n / 6] * 6\n",
        "\n",
        "chi2_stat, p_value = stats.chisquare(f_obs=obs, f_exp=expec)\n",
        "\n",
        "print(f\"Chi-square statistic: {chi2_stat:.5f}\")\n",
        "print(f\"p-value: {p_value:.5f}\\n\")\n",
        "\n",
        "if p_value < alpha:\n",
        "  print(\"Rejeitamos a hipótese nula\")\n",
        "else:\n",
        "  print(\"Não rejeitamos a hipótese nula\")"
      ],
      "metadata": {
        "colab": {
          "base_uri": "https://localhost:8080/"
        },
        "id": "l0RWh_C3dVxZ",
        "outputId": "4fbd96a4-4f76-4553-d920-62f2323adcbd"
      },
      "execution_count": null,
      "outputs": [
        {
          "output_type": "stream",
          "name": "stdout",
          "text": [
            "Chi-square statistic: 2.94400\n",
            "p-value: 0.70862\n",
            "\n",
            "Não rejeitamos a hipótese nula\n"
          ]
        }
      ]
    },
    {
      "cell_type": "markdown",
      "source": [
        "Hipóteses:\n",
        "- $H_0$: O dado é justo, a probabilidade dos resultados é igual.\n",
        "- $H_a$: O dado não é justo, há faces com maiores chances de caírem.\n",
        "\n",
        "Com os dados importados criamos um dataset com a frequencia total para cada face dos dados observados e outro com 1/6 para cada face para os dados esperados.\n",
        "\n",
        "Usando a função chisquare da biblioteca scipy.stats e passando como parâmetro tanto os dados observados como os esperados, é retorna o valor da estatística e o valor p.\n",
        "\n",
        "Por fim interpretando o resultado, observamos que p é maior que o nível de signnificância, $p > \\alpha$. Dessa forma não temos evidência o suficiente para descartar H0. Não podemos dizer que o dado está viciado."
      ],
      "metadata": {
        "id": "AnhXG-uBh6uO"
      }
    },
    {
      "cell_type": "markdown",
      "source": [
        "# 6 Teste de Permutação\n",
        " A Figura 4 mostra os resultados de um experimento no qual 7 de 16 camundongos foram\n",
        " selecionados aleatoriamente para receber um novo tratamento médico, enquanto os 9 restantes\n",
        " foram atribuídos ao grupo sem tratamento (controle). O tratamento tinha como objetivo\n",
        " prolongar a sobrevivência após uma cirurgia de teste. Em particular, a coluna “Data” mostra\n",
        " o tempo de sobrevivência após a cirurgia, em dias, para todos os 16 camundongos. Essa mesma\n",
        " figura também apresenta, para cada amostra: tamanho, média, desvio padrão.\n",
        " Utilize o teste de permutação para responder à seguinte pergunta de pesquisa (use nível de\n",
        " significância igual a 5%): O tratamento prolongou a sobrevivência?. Você deve apresentar a\n",
        " declaração das hipóteses, descreva como calculou a estatística de deste e o p-valor, a finalmente\n",
        " apresente sua conclusão."
      ],
      "metadata": {
        "id": "bAaTgIU2kAQ0"
      }
    },
    {
      "cell_type": "code",
      "source": [
        "treated = np.array([94, 197, 16, 38, 99, 141, 23])\n",
        "control = np.array([52, 104, 146, 10, 50, 31, 40, 27, 46])\n",
        "data = (treated, control)\n",
        "\n",
        "result = stats.permutation_test(data, lambda x, y: np.mean(x) - np.mean(y), permutation_type='independent', n_resamples=10000, alternative='greater')\n",
        "print(\"estatística: \" + str(result.statistic))\n",
        "print(\"p-value: \" + str(result.pvalue))\n",
        "\n",
        "if result.pvalue < 0.05:\n",
        "    print(\"Rejeitamos a hipótese nula\")\n",
        "else:\n",
        "    print(\"Não rejeitamos a hipótese nula\")"
      ],
      "metadata": {
        "colab": {
          "base_uri": "https://localhost:8080/"
        },
        "id": "zIJUvunWeeKw",
        "outputId": "56d8b4ed-9122-4bc1-dd65-8f85e0bcb279"
      },
      "execution_count": null,
      "outputs": [
        {
          "output_type": "stream",
          "name": "stdout",
          "text": [
            "estatística: 30.63492063492064\n",
            "p-value: 0.14278572142785723\n",
            "Não rejeitamos a hipótese nula\n"
          ]
        }
      ]
    },
    {
      "cell_type": "markdown",
      "source": [
        "Hipóteses:\n",
        "- $H_0$: Não há relação entre receber o tratamento e os dias sobrevividos após a cirurgia. $\\mu_{treated} - \\mu_{control} = 0$\n",
        "- $H_a$: Os camundongos submetidos ao tramento tem uma expectativa de vida maior. $\\mu_{treated} - \\mu_{control} > 0$\n",
        "\n",
        "Ao definir os dados como um array numpy eles são passados como uma tupla para a função permutation_test da biblioteca scipy stats. Além de receber a função usada para calcular a estatísca que é a diferença de médias, o tipo que são amostras independentes, quantidade de permutações e que o teste a ser realizado é unilateral a direita. Essa função retorna um único objeto que contém o valor da estatística e o valor p.\n",
        "\n",
        "Como resultado tivemos $p > \\alpha$, portanto não temos evidência forte o suficiente para descartar a hipótese nula. Com base nesta amostra, não foi possível concluir que o tratamento aumente significativamente o tempo de sobrevivência dos camundongos."
      ],
      "metadata": {
        "id": "eKWIGMqh-q-7"
      }
    },
    {
      "cell_type": "markdown",
      "source": [
        "#  7 Bootstrap\n",
        " Essa parte do trabalho é uma adaptação do Problema 9 na seção 5.4 de An Introduction to\n",
        " Statistical Learning6. O conjunto de dados usado aqui é o denominado Boston. Uma descrição desse conjunto de dados pode ser encontrada em http://lib.stat.cmu.edu/datasets/boston."
      ],
      "metadata": {
        "id": "vu_SerqfCKMg"
      }
    },
    {
      "cell_type": "markdown",
      "source": [
        "###  (i) Com base neste conjunto de dados, forneça uma estimativa pontual para a média populacional da variável medv. Chame essa estimativa ˆµ."
      ],
      "metadata": {
        "id": "RGbOBt-ZDXLU"
      }
    },
    {
      "cell_type": "code",
      "source": [
        "df = pd.read_csv('Boston.csv')\n",
        "medv = df['medv']\n",
        "u_hat = np.mean(medv)\n",
        "print(f\"Média populacional de medv: {u_hat:.5f}\")"
      ],
      "metadata": {
        "colab": {
          "base_uri": "https://localhost:8080/"
        },
        "id": "HRpK89M_Dcjg",
        "outputId": "729fee87-9e40-423a-9367-6fd32e748fc6"
      },
      "execution_count": 11,
      "outputs": [
        {
          "output_type": "stream",
          "name": "stdout",
          "text": [
            "Média populacional de medv: 22.53281\n"
          ]
        }
      ]
    },
    {
      "cell_type": "markdown",
      "source": [
        "Importamos os dados do arquivo com pandas e calculamos a média populacional da variável medv com numpy."
      ],
      "metadata": {
        "id": "LQF7b2MRE4hv"
      }
    },
    {
      "cell_type": "markdown",
      "source": [
        "### (ii) Forneça uma estimativa do erro padrão de ˆµ. Interprete o resultado."
      ],
      "metadata": {
        "id": "4qBomTcuFDbk"
      }
    },
    {
      "cell_type": "code",
      "source": [
        "s = np.std(medv, ddof=1)\n",
        "n = len(medv)\n",
        "se = s / np.sqrt(n)\n",
        "print(f\"Erro padrão de µ_hat: {se:.5f}\")"
      ],
      "metadata": {
        "colab": {
          "base_uri": "https://localhost:8080/"
        },
        "id": "doAUseYhFQmv",
        "outputId": "294a4017-390c-43dd-b97c-a1d9cbf441d5"
      },
      "execution_count": null,
      "outputs": [
        {
          "output_type": "stream",
          "name": "stdout",
          "text": [
            "Erro padrão de µ_hat: 0.40886\n"
          ]
        }
      ]
    },
    {
      "cell_type": "markdown",
      "source": [
        "Primeiro calculamos uma estimativa para o desvio padrão usando a função std da biblioteca numpy, então calculamos uma estimativa para o erro padrão seguindo a fórmula abaixo:\n",
        "$$\n",
        "SE_{\\mu} = \\frac{\\sigma}{\\sqrt{n}}\n",
        "$$"
      ],
      "metadata": {
        "id": "aVL8jR0TGN0v"
      }
    },
    {
      "cell_type": "markdown",
      "source": [
        " ### (iii) Agora estime o erro padrão de ˆµ usando o método Bootstrap. Como essa estimativa se compara com sua resposta de (ii)?"
      ],
      "metadata": {
        "id": "W76KAo1YG9J4"
      }
    },
    {
      "cell_type": "code",
      "source": [
        "B = 10000\n",
        "n = len(medv)\n",
        "boot_means = np.array([\n",
        "    np.mean(np.random.choice(medv, size=n, replace=True))\n",
        "    for _ in range(B)\n",
        "])\n",
        "\n",
        "se_boot = np.sqrt(np.sum((boot_means - np.mean(boot_means))**2) / (B - 1))\n",
        "print(f\"Erro padrão de µ_hat: {se_boot:.5f}\")"
      ],
      "metadata": {
        "colab": {
          "base_uri": "https://localhost:8080/"
        },
        "id": "1ENXZdOPL476",
        "outputId": "2a135f84-26a0-4b86-cb93-95aecdde9a6e"
      },
      "execution_count": null,
      "outputs": [
        {
          "output_type": "stream",
          "name": "stdout",
          "text": [
            "Erro padrão de µ_hat: 0.40969\n"
          ]
        }
      ]
    },
    {
      "cell_type": "markdown",
      "source": [
        "Definido o número de amostras que serão geradas com B = 10000, usamos numpy para gerar todas elas e calcular as médias. Assim com a fórmula abaixo implementada é possível calcular o erro padrão que é bem próximo do valor teórico calculado no item anterior."
      ],
      "metadata": {
        "id": "TqhHVDeJSI2n"
      }
    },
    {
      "cell_type": "markdown",
      "source": [
        "![image.png](data:image/png;base64,iVBORw0KGgoAAAANSUhEUgAAAYAAAABvCAYAAADlohdcAAAAAXNSR0IArs4c6QAAAARnQU1BAACxjwv8YQUAAAAJcEhZcwAADsMAAA7DAcdvqGQAABpnSURBVHhe7d0PUNv13Qfwt6476NVrsO5ohyc52DXS3po2W8H0uqTxNNJT2+JKl+expb21mOfpMsSWlrOH6BS5eqxMKQ/2eSJaI60uSndgO6+IvUWwB4VukbBTTK/lgmdsc4+MeHbCnm4+3+/v9wNCISFAAgm/z8v7mfy+CSkJ+X0/3//fW26//fbvQAghRHZulW4JIYTIDAUAQgiRKQoAhBAiUxQACCFEpigAEEKITFEAIIQQmaIAQAghMkUBgBBCZIoCACGEyBQFAEIIkSkKAIQQIlMUAAghRKYoABBCiExRACCEEJmiAEAIITJFAYAQQmSKAgAhhMgUBQBCCJEpCgCEECJTtCewzH300UdYuXKldEYImaolS5ZI9+IPBQCZa2trw9WrV/HII49IKYQQuaAmIEIIkSkKAIQQIlMUAAghRKYoABBCiExRACCEEJmiAEAIITJFAYAQQmSKAgAh02W2w/m5F/39/cLhZfeFw8fOfb1oKlVKTyQkNlEAIGS6rCZo8prh4fe9p/H4XSlI4Ye2Fi4okLnPjirhiYTEJgoAMqdSqaR7ZFpy7gYv5w/2uVAvpgBXPBi4zu8kIckkpBASkygAyNw//vEPWgZiBkpWpgq3fZc7hVvBXiNWK1hQuNSEE3YpjZAYRAGAkGnLhTo1kd364GlvEVLUZivai/WsFnAalf9ZiGYhlZDYRAGAxBT1xlwYNdJJrEt/AKpkdnsdUP6qHe3n22H9lRGpN9zosFei0ik+jcQ/ZYEdzl4vvF6xg7/9lR3SI/GNAgCJAWoYzSWwne+F400rynZLybFut0ps/+9+Bdr1WvFYY0bzkArGQ41oMItPI3EuvQTWYh2GzuxCys9K0eJXQLW1Ak0HpcfjGAUAMreq29Hf74CtNB/G5QopMT5YVgnZP9x/Gen+ZYaAG/w2AQvj6+2QYHYbkbmI31kKXKlB4Vk3u5+IzIfLeGJcowBA5laBVthQI+WuI+gQRs7Ei1zo72Y5/I0+dH0gDARllMg/XgVjKuDvPoEjv5WSSXz75xAL84lIzdKzvzrg+eQq/Dx9qUo4j2cUAAiZotzjTng/Pwojb/9foMK2OmkCmNeJCsNCuO3F2LKhmDqA54tnspHCCyn3mIWhvvqfKMErd3zob8DYr7hEAYCQKar/pUaY8MVrLmLtRZoAlsLO0zJg2MsngkXRxgo4er1orzZKCWQqlAUN6PX2wF4wjZna6Rbsv5/9nN+FE78rFycBxjEKAITEE575H8uH0lUOUwHVMabDU50D86kB6A41TTEIGFH1VgmyrregZq8BxWel5DgWtwFAqduEohesqOKdh/EybJCQGdkB+0v5UA81o3RLTdyXPudSc4EJr15aDOMhG8rSpcSQjKj40IrN32tG+eYclN5Rhaa3S5ApPRqv4iQAKKHfko+Sl+xoutDDqm/9cDbaUGLORd6+CtjP9aPf2wvnuQbYXijCJt00qnaExDjLH8pgTPahucyEE1LaRIzPNrFrxAnbbroOgvOg9JevwgU19tRVQS+lTkwJS6MV+anX0OEcwuqDVtjMm5G5NDHu+wBuuf3227+T7scQPi58Ex6+X497VqqQmqxA4gKWfGMQfl8fPJc/Q9fFVnzgaIZnUSayMnXQrV2Nu3+kHPtcrxtdzg60NpxBfWMLlZgm8OWXX+KHP/yhdDaXLGjoLYNeAbhPLoG2QEqeA5bGXpTpojmGcxCdh1OQPZVRQtvt6Kk2YvHFSqx7IHjbs/EFB6xmFYb6hpCcPITmw9kwVdM3PxjjcSfsW5bC9fI6GJ4K8jk964C3QA0+5zuQ74PHkfGLUKE49sVGANAYkWswYpMhC2qW4SvvYB/1BJn96dbwvsi8echouH9sUGAXHX899ycudLWdxpnG02i5Iv2AjFEAmMBGG5xvbhImeYk8OP2oBrum0ubLv9MqBZJUYuFEvVLNvtfSY1x3LTQbisMslOhRdaEBectD/x6ZRxxo3KlE9zEzsp9xI/94A57bshCtT2bAZJWeRMZKL0HTh0XIvNGC0rQc1EjJchETAaDiXC8233YNHg/PnN9Hs6MezRGeRj8cFLJWZUCtUiHJfYRFb7n9ucejADAxY3U7bNtVo6W+r1gGkc0yiBkUGtTbK/DcwR3QC+sHeVD/cw3MDvGxkKTSf/KlOmjuKQwRNNTQ6/xoCSgoqXV6+FunUPvdWIGGvcCrW4pxWkoaKxNFb5QgtSkHhSelpFlWdaGfBUPpZBw36pZoUSidhWO4xueyamB4MuxPal6I0SYgMltiMQB47Bpo9s71hchK3ed/j7wVoxV/f2spDDPufFUi95gdR00qfB1mE0LRe16UaBOjn0FtrEL7a5sx+IaZ/TvNQsFsxwrepMqCVQELVtLKpnwYpaM0Ax37WM1ijoJARA0H2Cv1yFlrhrisnzzQMFAyt4SlIPiOWmLmzylNTjGtt4GFhbnSgsK8crQIUz5FCl0JbM/PtGOVZaZ7tdjV6EGyIR8Vk45AKcEDq3gQcqPLGs2gyAJe6TakXjqBp1nmzxXfVy7Ozr7uQVfAstZ8GOWRtgQYS+1xPxNWcLIFPfzvnJ6JPQYxSS5iOgAot5bBfqEXXq8407Lf50XveSvyD7KIzUc5BPyxys6Nbs03+dErVHNJDJCWgpjwmOs2Wb7uy+9axGn/gkSod9tRtVE6nYHmX1ai7mMFVj8+yUDCQ3qs4uvQ9H2GU2E0PwnLUV8aXrWyBw3hjnPfbkH2iiF0/L50tAScniX2W/S5cUZMGVHzYgs8yTo8ViolzIFpv9dxatB5aZDdKqHeFXo80HwTswGAj2ZwvGJB1uC7KH5InGm5JLsSXcm5qDjEqmusVNIa0H5aeh+fmclX6hPPeXX95gzFUFALl/D4NXiOCU8jJCRe2i0965POmEQVtj1bhZnPwT2Bwgc0yH4i9EDC/EyxH8Lv6Zi0aYI3zTS+kIuln1RiY0oOTnuTobdUYOzCxWoYTUb2/7FyH1rNrik3WgOvC2m1Ux/7t8fVPRyt8HyViFXriqSE2TWT9zqRE5evCbdK1VbhVi5iMwAYqlC2Uw3FlXqYNxTixHCHsLMSOa91gsfqwd5O1IqpowysxCI1I3i6x5cdXSeL8V9t7GK+7kfAJU1ISCceLUCdUEIUJS7PQ/Wbs7EevB66dPELfa1vkrrQxirYWW1B4W/BkS2VcLFw0eFhpZ3kLOQGLkttfg7WYzYcfVY6l+h+lMyizNUxGX3+SrFEnax7Hu0f96L/86aASVO18LCLKJHVEma9GWiG73UiHpdHrOmlZqBESJGHmAwAueZsqFixx91mHr+g1uEe9LEbd0e5eB7ofqU0dM+NrteEOwKlzgi99MXt9H/Lose3rA5ASLiaUfjMO3CPxgAkbyybQZNDuHRYJgwd9ePqJ0JCEEqUHdomXDMue+FNzWYKLFvJbvj6N/396HloIQb4ktVrnPD6vHC8wJugLFDyhe2+6hvd13g4+Fx3ofZANrRr3oV7USZ2HMmXHmdX2f+yLHPxUqyWzmfHTN9rEMc8Yp6wKBkqGfUDxGQAEEojzNJU9sUU7gUwL0MC+1IGZvDDSrKkDc7HtJdaUPWGHRX7xFd6OCWJ12nH1x4ICeVsIUzVYu1TpIB+fxUsYS0jME3pSiQL69APwNckpExsewW28Y7iGy50BHQUq34gVYe/x47qHKRtKcWFO1exa0oB9d0evPrYOhieDNYEZYQyhd14u3DmFHtNs5Kvho8ExU1XJJ90OZui8l45N64KVYAkKFYJCbIQkwGg7yvxMlPoytD213Y0HK9A0Ra9GAysJmjuMqBwXIfY8P6sge2lauw4locshQef8S8xU7MlDUvWT2WUMCEiz2EzyluFXEKk0KNk0mUEZiA7mWVH3BC+DdEBXLRdB6HI9Gkrikeely+W6plB/ivzUvGpEqi/cMPH/nN9psSe421wPM9LxcOb2AQws8yTZe4eV6twLenX8ax0EH3dc7sA3czfazDDnwGrRUjlSDmIyQBQeXS0up2YohLXATreAKfXCfvBIF06w/uzMjxwiKN9HMJ460SfG6fDmXBDSEgeVoA4gpavpFMmccU2VERrWeakhUjgt/6rrHwaTJE0TJT9dp8E1GuHR/DAjwHeZspLxckp0PxxgL3mYuBjDVKWpMDwFC8V18LTz27uSMUm/iOcf4hnifBfq2evZcF+gxKD3lbUHR3tihZK3f3X0CWdR18k3msw0mfAJNwmn5FAsdkJzKrb2oceR6W9BW6vH4PDpZNEJYwHj048dloascCrcnVrpZE/99XAdZ2VCvpcAW2bo/hEF3EImZNXLGbVplfaxU1EpnS0o0orvUCEfP/730dVVZV0RiZXg5yCenhGSsyJUG2vgC0CQ0PHSeFLmEzCxDI/oZkIo/Mn+HExV7webnjQHbgMhPVpmPf+B562SeeS1ss+VnJahpHCr70Y1Q4fe29OOJsOIONKPZ7OMwXMhM4V+icGr3RMeG1FRYTe62SSlsinDShOZgKPzp7kF4Tr5SUsmouPDBtZwMvXDHOGSfpSirNLlzUugfYJdppehqZzD+PqMxrseoM/no+GSxXQL4jcOiCWVxzIu7MLRx4snL0LYwba2tpw9epVPPLII1LKePwim294AWEmJlwqYnmE5y3wSXLs34A/xPfzJfacneOfMzx7OOw1h4TZsFnoKUlDTjhDpA02OP9ghO/FdcguC/HqpU3oNa8SazJh6cOZvVqYb554wEXqvQYxvMQEH0KetiWif8mYFVs1AIMV7Z87UCGdjuKzJ+vQITS/DmJo3N6x0v6sjP+zloCM14/Os7WoaxDP9IceRiZ7rQ4h82dCTHSZnnwYDWqoUsWW2/kicC7FfDlmSlhPvjtgWBAXzQ7hIPJTedcs09cdECBGm0pcbWEuXXGyBk2XFND/W3gbnVv26bG07wzqQmX+XFk20oZ3TAvrCJL5MxF7r2REbAWAHJZ5LkoMUlpIwkJhmWf3mGnpgnTdSCfQtd7AyH0C5XuLUSO0/4tbufk660e/PKEmukyHFFD8lyevFk+7CWit9AJkjnlQ+sQ7cPOmoEE36gpYiTRER220JPBRL4znymjnrPKFTcjkTSWsNlwb9tpBLSh8pg7u5XvgmGS5Cz4J60DmEFpfLQ+5L0GkRe69kmExFQBKVqay/6ci46B4Hsh4LFf4Q/s+qA3o/ZfsXi21XXrwmVTaH0uJ/LcLoFd40PLy6Fc21EQX47N2tF/qRc+Fdjh7++E9Pzz704iyt9vR29uD9vNO9Pr43qyHYfuYZdAfiW2RCT8pgfdjO6sPBHf6Me0EpZ/JDi0KL0ovEIbXX38dJtMsd27IhhFV/70NKlYgqWe1gcJobA/I+7+ku8Gc8Q4It0PfDHfOWlC1VS0GpSdCbxwzDu97230CAz/ZH2JyVyZyMxeiZQ72GYjoew1hoL9bujf/xVAAyEdmGq/KJSJznxO2AmnYZ7oeljfYuUkJf3ctCh4d/2e2rJJKLH4POm4a7aPUsS/Je0147n5WRehuRvnI48EnugjtuwU64IODyL5HC83vWjC0Ig9lL7GL/rwNlp8Bzfxn1mtwpG0Iqu33YmBNCso7/UIN5Z08llmvMc3pXIOdO3diw4YNWL9+vZRCIkeNokYr8pYPsYzQBLM0xDjiBr4VRuKM6Zy9icfeKdRe+ZwZoXDy/gHo7/ALv9e0gtLZYuSE7L/qROXObOyag01mIv5ex8iHUmoZHA0w81/sBACDDspFHpw+YEZNJ2+vb4BT6OFvQMk6Vt182QzDhuKAmcG5sP1VHAUwsnuTQo+y4ZEB0uFsLEOeNpmFlUG4HIEdRMEmumzFgRwVEr/qQN3eevH5t4nD8ZLWHca2FYnwt9eNXPRJC4VHsMwk9UN4XWPWKJorvFNXoVBg7dq1uO2226TUyOKdb4Gf9YSHtxftb5exT3sOsMLDpuH5IxHDtwdsRIkuAe6TZuREMyNs8kEs8yZgYbD+BYcZxSfdSFhXBq/XDkvaNdQfMET395orUX2v7DoWJrX5cTX4mNt5J3YCgGMXNCka7HqtHqVbNEhLGe2wS1muhekpKTMeUY9dPx7bsRf6SIHhGelHuWATXf5vIVSLWK3yUuvoKAPdKhZA/Ph2wR1CIHG3jTwCPV8vntc8rm0S5iH4PV2o5xnPxnCWoIoOXvpfs2aNcP/OO+/E5s2bhfuRVvng2AX4fGfNYz5zzWP1cLNPVXW/BbYPyyKcEQfHN/8peqkJzo8aYHtpPx6W0iPBWG1nmb8C/tZymAqiPCnqigc+YcBDEpKzhZQJNRdokZLMrhN+zbBrxfzaPMz8JdF7ryosE8qRA/D9UUiQhdjqBJ5NwSa62NxCqevrb6TVgjZasWMty/6d7+CNvwiPYMArPmQ8tgOZCX647EdQmXO3kMF5Pm2F5UUbju5lNRrxabPuwQcfxN/+9jcMDAwIpX+tNsKTBwKZ9MgQLhw/etrGNhx4TplRx5vFmMRVRuwX7kUTH/bLan2n/ge/3soCvDg4JGJ456d1uwpD3bUwz3hjmHC04qow6Uxa44ZEz16xBQDXffDMQWf+XJFvAAg20eUtsZq52FAGJ+/kPabHkKMG5vuK8eJjxaj7dDGMzzuFTmOrbgjNx8Tdk3D2gjB7WbX1bRT8oBnl++ZmSFpubq5Q+q+vr0dfXx9uueWWqDYDgdWchAFYfBJOtZAyxrIkqXnuul9YxC+6apCTxkqGySlIa4jsv6YssKPpkB4Jl+pgHtMUOV16WI7YYX021PIELWi9IgZQsd2bRItSzVsAmL4eTLDM5Lwl3wDAsuean2cgJU0DzfI0ZNxnRq207LRYzUyDZr0GaWkZ0P6iVLrgm1G4PgVL2M9o16Qh7cdamJ6RsgI+goJVS1OWZyBjPXutOSpF3HvvvfD5fLDb7fjzn/+Mf/3rX1FtBhJHbjF97vGd3qz29PAKfmcQ7lPlqBQS45Cw/DDfg6IF5f9eGIHMnweU/TiwWwX8KdTyBEBtp1sYCaRQZkVvzSGCHT8S5xh43KeEW7mQcQCYnywWC/R6PS5fvizM8v3666+j2Aw0ugCfz/3+mBqP2myD8zU+LNYP12uPw/REnI6sSLegoToPKr7ESITG+iu3WsX17K904sRkAwYOt6Cb9wOk3o2tczDRTB4syFzOv8ceuGzyGQHEUQCYx86ePRvdZiCD2PHNJRuOjk5Y8/bD8YIRCztrsUubBsOBmzvw40R6LqxvlUC/KFJj/dXIP9YOx7Fcab+LcmEAQmjleF+YcazCPdKS5iTC9hqxmrf/sID8agyM4JtNFADmsW+++Sa6zUDDG/DwtVlSAiaspWhgtvdhsS4ftnMOVERjobSoM6LqraPInelYf40RufsqYH+PTxpkn4VJBYUwo92FlhfDe83Kk63CDnaqrP1zNrBgPivalCW0/7s+CCcgzy8UAOa5aDYDjUzAG7M2C8fXbjqCVp5rKVip91BF0IxryktiXGqahS37+Fh/PtGLFdNvJCCruG3i3yXUwVeZ5fMgztlhLc2HUasUM37J4MXT42e0B3OyGO/yyanLs1GxXUwiEZJegU1r2d9ZpktJUACY56LXDDS6AF/g2iyj6qUdlphUVdCx+FNeEoNlgtEepaF/SRzrL1iQiMRF0zjErpEgBtH9p6l0iXtQbG1mtYBk6MyzN59CDnY8vxnqBYNw1RfP6rpGsYICwDzHm4FcLhe+++67yDYDjWzA44enbaKKcwky+ExrblwNIba1PMGCUsCEtsgfKcj+rfSPheukCdUOPxJX7UDVXimNzIyhCr++PxmDn76Dp5+SX+mfowAgA+3t7UIgWLRoEX76059KqTM0vAHPzZtwSIzHxcX7WN0azdZSIY3MTM3PzTjdx/cibgDNCpgpParKt0HFh/bmFcqu7X8YBQAZePfdd/HFF1/g1ltvFQJAJJqBRjfgv2n8v2YHKhp7YNvCw4MfndUFMJ0UH5pNygXhb0ESP5qx68kadLLM60CjhZqCZsBYXYFtaX2oP1A4J8t4xwoKADLAS/8XL14UmoFSU1OxceN0h+Xkwt4jdm4W8Y4zLj1XXLRv+Dh3FPmZCfjaydd0MiB7eKLcrBCXguC/h9MkZY8BCwS2TzBTOZT8N53o/Zz/rBdNEyxRPhVqsxVN56whlwgPy9lSZBfUwqMuQcOx4Is2k+AyDzbAujUJrdFcyTVOxMmWkGSmHn30URw+fFhoBrLZbCgqKhLSw9kSUs6qzvNtAt2o+4UWhdMYI86DyHO6pUBCIhLhQk2yAdQgRmIF1QBkIhrNQPOfRVwyvN+DzmlOEKp9VCOMXnqnV0ogJIZQAJCJyDUDyYi00ungF25ZDhEk8x8FABkZHg20ePFirFu3TkolQUkrnSau2AHnhR54fU7YaCIWmUcoAMgINQNNjbDS6Q0fWl7cAs091ei4rsSmX1Wh6I12tJ+f7LCjjDbwJzGOAoCMUDPQVEgrnV7vQfNvXexc2jFKkQTPTi206yc7TCidwgb+hMwFCgAy09XVhb///e/UDDQpHZTJwOCn0taghzLAdz7wuzugDKcG8KEN4jgrQmIXBQCZcTgc+PLLL0eagfgaQWQiX2PwBvv/AB8nboR1ayYS/S68Y61BZTg1gA274ncDHCIbFABkhm8Uw2sBvBnorrvuEuYFkImUotzuxmLd83D+1QrjP5tRc2AXiqe6J8ARh7A66LY0dn+BGnvY/d73or+eKSHhoIlgMrRnzx785je/wcKFC4W9As6fP08TwQiRIaoByFBgM9CCBQGL1BNCZIUCgAwFNgMRQuSLAoBM8UlhfDQQIUS+KADI1HAzECFEvigAyBQ1AxFCKADIGDUDESJvNAyUEEJkimoAhBAiUxQACCFEpigAEEKITFEAIIQQmaIAQAghMkUBgBBCZIoCACGEyBQFAEIIkSkKAIQQIlMUAAghRKYoABBCiExRACCEEJmiAEAIITJFAYAQQmSKAgAhhMgUBQBCCJEpCgCEECJTFAAIIUSmKAAQQogsAf8PLWIhx752bOsAAAAASUVORK5CYII=)"
      ],
      "metadata": {
        "id": "LNrSOHVHSHRG"
      }
    },
    {
      "cell_type": "markdown",
      "source": [
        "### (iv) Com base em sua estimativa de bootstrap de (iii), forneça um intervalo de confiança de 95% para a média de medv. Compare-o com os resultados obtidos usando t-test sobre o atributo medv."
      ],
      "metadata": {
        "id": "108AkJ9UTn3f"
      }
    },
    {
      "cell_type": "code",
      "source": [
        "boot_means.sort()\n",
        "lower_bound = np.percentile(boot_means, 2.5)\n",
        "upper_bound = np.percentile(boot_means, 97.5)\n",
        "print(f\"Intervalo de confiança de 95%: ({lower_bound:.5f}, {upper_bound:.5f})\")\n",
        "\n",
        "mean_t = np.mean(medv)\n",
        "se_t = np.std(medv, ddof=1) / np.sqrt(n)\n",
        "t_crit = stats.t.ppf(0.975, df=n-1)\n",
        "\n",
        "ci_lower_t = mean_t - t_crit * se_t\n",
        "ci_upper_t = mean_t + t_crit * se_t\n",
        "\n",
        "print(f\"Intervalo de confiança 95% (t-test): ({ci_lower_t:.5f}, {ci_upper_t:.5f})\")"
      ],
      "metadata": {
        "colab": {
          "base_uri": "https://localhost:8080/"
        },
        "id": "vVDs5FtVVuAa",
        "outputId": "d1ac4af9-5a66-42e3-d507-ffbe6de29c2b"
      },
      "execution_count": null,
      "outputs": [
        {
          "output_type": "stream",
          "name": "stdout",
          "text": [
            "Intervalo de confiança de 95%: (21.73458, 23.34350)\n",
            "Intervalo de confiança 95% (t-test): (21.72953, 23.33608)\n"
          ]
        }
      ]
    },
    {
      "cell_type": "markdown",
      "source": [
        "Para o intervalo de confiança no bootstrap usamos o método de percentil. Assim calculando o t-test sobre o atributo para gerar outro intervalo de 95% de confiança é possível perceber que a diferença entre a estimativa com bootstrap e t-test se mantiveram muito próximas, comprovando a confiabilidade dos métodos."
      ],
      "metadata": {
        "id": "v2-erbt2bZvk"
      }
    },
    {
      "cell_type": "markdown",
      "source": [
        "### (v) Com base neste conjunto de dados, forneça uma estimativa, $ˆµ_{med}$, para a mediana populacional de medv."
      ],
      "metadata": {
        "id": "XeJ-4G7ZcZaG"
      }
    },
    {
      "cell_type": "code",
      "source": [
        "median = np.median(medv)\n",
        "print(f\"Mediana populacional de medv: {median:.5f}\")"
      ],
      "metadata": {
        "colab": {
          "base_uri": "https://localhost:8080/"
        },
        "id": "LAt7FWS0dYtC",
        "outputId": "cb1c3f66-e703-4ac1-b6f2-9c7a51257aa5"
      },
      "execution_count": null,
      "outputs": [
        {
          "output_type": "stream",
          "name": "stdout",
          "text": [
            "Mediana populacional de medv: 21.20000\n"
          ]
        }
      ]
    },
    {
      "cell_type": "markdown",
      "source": [
        "Estimamos a mediana com a função median da biblioteca numpy"
      ],
      "metadata": {
        "id": "o86Rk1vyeito"
      }
    },
    {
      "cell_type": "markdown",
      "source": [
        "### (vi) Agora você deve estimar o erro padrão de ˆµmed. Infelizmente, não há uma fórmula simples para calcular o erro padrão da mediana. Em vez disso, estime o erro padrão da mediana usando o método bootstrap. Comente suas descobertas."
      ],
      "metadata": {
        "id": "D1__5XYTeoDA"
      }
    },
    {
      "cell_type": "code",
      "source": [
        "B = 10000\n",
        "n = len(medv)\n",
        "boot_medians = np.array([\n",
        "    np.median(np.random.choice(medv, size=n, replace=True))\n",
        "    for _ in range(B)\n",
        "])\n",
        "\n",
        "se_boot = np.sqrt(np.sum((boot_medians - np.median(boot_medians))**2) / (B - 1))\n",
        "print(f\"Erro padrão de µ_hat: {se_boot:.5f}\")"
      ],
      "metadata": {
        "colab": {
          "base_uri": "https://localhost:8080/"
        },
        "id": "SO6920Y5gIxd",
        "outputId": "0de2d59c-fa27-4abe-9f43-f6b6380d8665"
      },
      "execution_count": null,
      "outputs": [
        {
          "output_type": "stream",
          "name": "stdout",
          "text": [
            "Erro padrão de µ_hat: 0.37771\n"
          ]
        }
      ]
    },
    {
      "cell_type": "markdown",
      "source": [
        "Usando o bootstrap é possível gerar diversas amostras com numpy e pegar suas medianas. Desse jeito estimamos o erro padrão  de ($\\hat{\\mu}_{\\text{med}}$) com a fórmula anterior (repetida abaixo), mas substituindo a média pela mediana, algo que seria muito complicado de fazer, especialmente para distribuições não-normais ou amostras pequenas."
      ],
      "metadata": {
        "id": "OQsjq4zMiusl"
      }
    },
    {
      "cell_type": "markdown",
      "source": [
        "![image.png](data:image/png;base64,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)"
      ],
      "metadata": {
        "id": "gZaXyu9Nknbt"
      }
    },
    {
      "cell_type": "markdown",
      "source": [
        "### (vii) Forneça uma estimativa para o décimo percentil do atributo medv. Chame essa quantidade de ˆµ0.1."
      ],
      "metadata": {
        "id": "Dt_Zkzqukw_k"
      }
    },
    {
      "cell_type": "code",
      "source": [
        "u_01 = np.percentile(medv, 10)\n",
        "print(f\"Decimo percentil de medv: {u_01:.5f}\")"
      ],
      "metadata": {
        "colab": {
          "base_uri": "https://localhost:8080/"
        },
        "id": "SkAPGhbtntP-",
        "outputId": "bb3b0304-2346-44d1-a39b-332c1aa69ae7"
      },
      "execution_count": null,
      "outputs": [
        {
          "output_type": "stream",
          "name": "stdout",
          "text": [
            "Decimo percentil de medv: 12.75000\n"
          ]
        }
      ]
    },
    {
      "cell_type": "markdown",
      "source": [
        "Usando a função percentile com parâmetro 10 podemos calcular o décimo percentil com numpy."
      ],
      "metadata": {
        "id": "lnUTx_FKp7A5"
      }
    },
    {
      "cell_type": "markdown",
      "source": [
        " ### (viii) Use o método bootstrap para estimar o erro padrão de ˆµ0.1. Comente suas descobertas."
      ],
      "metadata": {
        "id": "Fj2L7Ujjqyfg"
      }
    },
    {
      "cell_type": "code",
      "source": [
        "B = 10000\n",
        "n = len(medv)\n",
        "boot_u_01 = np.array([\n",
        "    np.percentile(np.random.choice(medv, size=n, replace=True), 10)\n",
        "    for _ in range(B)\n",
        "])\n",
        "\n",
        "se_boot = np.sqrt(np.sum((boot_u_01 - np.mean(boot_u_01))**2) / (B - 1))\n",
        "print(f\"Erro padrão de µ_hat_0.1: {se_boot:.5f}\")\n",
        "print(f\"Média 10° percentil: {np.mean(boot_u_01)}\")"
      ],
      "metadata": {
        "id": "DUB6X0oxq2nx",
        "colab": {
          "base_uri": "https://localhost:8080/"
        },
        "outputId": "fac2c908-9eac-4c56-dfe6-68a7dd9977ac"
      },
      "execution_count": 9,
      "outputs": [
        {
          "output_type": "stream",
          "name": "stdout",
          "text": [
            "Erro padrão de µ_hat_0.1: 0.49771\n",
            "Média 10° percentil: 12.77329\n"
          ]
        }
      ]
    },
    {
      "cell_type": "markdown",
      "source": [
        "Com numpy foram geradas 10000 amostras com o método bootstrap e salvo seu 10 percentil. Após isso estimamos o erro padrão com a mesma fórmula usada anteriormente que difere bem pouco do valor calculado no item anterior. Novamente o método Bootstrap mais uma vez demonstra sua utilidade ao permitir a estimativa do erro padrão para algo complexo, para o qual não existe uma fórmula analítica simples e amplamente aplicável."
      ],
      "metadata": {
        "id": "MxaGQx065EoB"
      }
    },
    {
      "cell_type": "markdown",
      "source": [
        " # 8 Teste de Permutação vs Bootstrap\n",
        " Uma empresa quer saber se é eficiente ensinar novas ferramentas aos seus funcionários usando\n",
        " cursos pela internet. A empresa seleciona aleatoriamente 7 trabalhadores e os atribui a dois\n",
        " grupos de tamanhos 4 e 3. O primeiro grupo frequentou aulas tradicionais, e o segundo frequentou cursos pela internet. Após a realização dos cursos, foi aplicado um teste aos trabalhadores,\n",
        " cujos resultados foram:\n",
        "\n",
        "*   Cursos na Internet: 37, 49, 55, 57\n",
        "*   Cursos tradicionais: 23, 31, 46\n",
        "\n",
        " Verifique se os cursos da Internet são mais efetivos do que os cursos tradicionais. Para isso,\n",
        " aplique um teste de permutação e um teste de bootstrap. Use o nível de significância α = 0.1.\n",
        " Os dois testes levam à mesma conclusão?"
      ],
      "metadata": {
        "id": "jKE7zFEr5aG5"
      }
    },
    {
      "cell_type": "code",
      "source": [
        "internet = np.array([37, 49, 55, 57])\n",
        "trad = np.array([23, 31, 46])\n",
        "data = (internet, trad)\n",
        "\n",
        "result = stats.permutation_test(data, lambda x, y: np.mean(x) - np.mean(y), permutation_type='independent', n_resamples=10000, alternative='greater')\n",
        "\n",
        "print(\"Teste permutação:\")\n",
        "print(f\"p-value: {result.pvalue}\")\n",
        "print(f\"Estatística {result.statistic:.5f}\")\n",
        "\n",
        "if result.pvalue < 0.1:\n",
        "  print(\"Rejeitamos a hipótese nula\")\n",
        "else:\n",
        "  print(\"Não rejeitamos a hipótese nula\")\n",
        "\n",
        "B = 10000\n",
        "data = np.concatenate((internet, trad))\n",
        "obs_diff = np.mean(internet) - np.mean(trad)\n",
        "mean_total = np.mean(data)\n",
        "\n",
        "internet_centered = internet - np.mean(internet) + mean_total\n",
        "trad_centered = trad - np.mean(trad) + mean_total\n",
        "\n",
        "boot_diff = []\n",
        "for _ in range(B):\n",
        "  x = np.random.choice(internet_centered, size=len(internet), replace=True)\n",
        "  y = np.random.choice(trad_centered, size=len(trad), replace=True)\n",
        "  boot_diff.append(np.mean(x) - np.mean(y))\n",
        "\n",
        "boot_diff.sort()\n",
        "boot_diff = np.array(boot_diff)\n",
        "p_value = np.mean(boot_diff >= obs_diff)\n",
        "\n",
        "print(\"\\nTeste bootstrap:\")\n",
        "print(f\"p-value: {p_value}\")\n",
        "print(f\"Estatística {np.mean(boot_diff):.5f}\")\n",
        "\n",
        "if p_value < 0.1:\n",
        "    print(\"Rejeitamos a hipótese nula\")\n",
        "else:\n",
        "  print(\"Não rejeitamos a hipótese nula\")"
      ],
      "metadata": {
        "colab": {
          "base_uri": "https://localhost:8080/"
        },
        "id": "bKHy8c9U7WGb",
        "outputId": "7eac898f-afe2-490b-f1e3-42854717a068"
      },
      "execution_count": 26,
      "outputs": [
        {
          "output_type": "stream",
          "name": "stdout",
          "text": [
            "Teste permutação:\n",
            "p-value: 0.05714285714285714\n",
            "Estatística 16.16667\n",
            "Rejeitamos a hipótese nula\n",
            "\n",
            "Teste bootstrap:\n",
            "p-value: 0.0016\n",
            "Estatística -0.09458\n",
            "Rejeitamos a hipótese nula\n"
          ]
        }
      ]
    },
    {
      "cell_type": "markdown",
      "source": [
        "Hipóteses:\n",
        "- $H_0$: Não há diferença entre realizar o curso tradicionalmente ou pela internet.\n",
        "- $H_a$: Cursos realizados pela internet são mais efetivos.\n",
        "\n",
        "Primeiro realizamos o teste de permutação com auxilio da função permutation_test da biblioteca scipy que pelo retorno rejeita H0 com o nível de significância estipulado.\n",
        "\n",
        "Agora, para o teste bootstrap foi necessário centralizar as distribuições, depois gerar todas as amostras bootstrap e calcular a diferença. Por fim computar o valor p com a fórmula:\n",
        "$T^{*(b)} \\ge T_{\\text{obs}}$\n",
        "\n",
        "Ambos os testes realizaram teste unilateral a direita e rejeitaram H0, ou seja, podemos inferir que cursos pela internet foram mais eficazes que os tradicionais."
      ],
      "metadata": {
        "id": "3DpwDRAVm84o"
      }
    }
  ]
}